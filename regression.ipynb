{
 "cells": [
  {
   "cell_type": "code",
   "execution_count": 2,
   "metadata": {},
   "outputs": [],
   "source": [
    "import pandas as pd \n",
    "import numpy as np \n",
    "\n",
    "import matplotlib.pyplot as plt \n",
    "plt.style.use('seaborn-white')\n",
    "\n",
    "%matplotlib inline\n",
    "\n",
    "import seaborn as sns"
   ]
  },
  {
   "cell_type": "markdown",
   "metadata": {},
   "source": [
    "### data load\n",
    "- 한글 깨짐 해결 위해 인코딩 'CP949'로 지정 "
   ]
  },
  {
   "cell_type": "code",
   "execution_count": 3,
   "metadata": {},
   "outputs": [],
   "source": [
    "df = pd.read_csv('shinhancard.csv', sep = ',', encoding = 'CP949')"
   ]
  },
  {
   "cell_type": "code",
   "execution_count": 4,
   "metadata": {},
   "outputs": [
    {
     "data": {
      "text/html": [
       "<div>\n",
       "<style scoped>\n",
       "    .dataframe tbody tr th:only-of-type {\n",
       "        vertical-align: middle;\n",
       "    }\n",
       "\n",
       "    .dataframe tbody tr th {\n",
       "        vertical-align: top;\n",
       "    }\n",
       "\n",
       "    .dataframe thead th {\n",
       "        text-align: right;\n",
       "    }\n",
       "</style>\n",
       "<table border=\"1\" class=\"dataframe\">\n",
       "  <thead>\n",
       "    <tr style=\"text-align: right;\">\n",
       "      <th></th>\n",
       "      <th>회사이름</th>\n",
       "      <th>회사코드</th>\n",
       "      <th>리뷰코드</th>\n",
       "      <th>직종구분</th>\n",
       "      <th>재직상태</th>\n",
       "      <th>근무지역</th>\n",
       "      <th>등록일자</th>\n",
       "      <th>별점평가</th>\n",
       "      <th>승진기회</th>\n",
       "      <th>복지급여</th>\n",
       "      <th>워라밸</th>\n",
       "      <th>사내문화</th>\n",
       "      <th>경영진</th>\n",
       "      <th>기업장점</th>\n",
       "      <th>기업단점</th>\n",
       "      <th>바라는점</th>\n",
       "      <th>성장예상</th>\n",
       "      <th>추천여부</th>\n",
       "    </tr>\n",
       "  </thead>\n",
       "  <tbody>\n",
       "    <tr>\n",
       "      <th>0</th>\n",
       "      <td>신한카드(주)</td>\n",
       "      <td>23957</td>\n",
       "      <td>1030925</td>\n",
       "      <td>금융/재무</td>\n",
       "      <td>전직원</td>\n",
       "      <td>서울</td>\n",
       "      <td>2019/3/20</td>\n",
       "      <td>60</td>\n",
       "      <td>40</td>\n",
       "      <td>100</td>\n",
       "      <td>60</td>\n",
       "      <td>60</td>\n",
       "      <td>40</td>\n",
       "      <td>하는  업무에  비해  급여를  많이  받는다는  느낌이  든다.</td>\n",
       "      <td>관리자들이  별로다.  눈앞의  이익만  생각하고  개개인의  개인  플레이가  심하다.</td>\n",
       "      <td>기업의  미래를  생각했으면 한다 어떤 점이  회사애  도움이  될지를  생각했으면...</td>\n",
       "      <td>비슷</td>\n",
       "      <td>이 기업을 추천 합니다!</td>\n",
       "    </tr>\n",
       "    <tr>\n",
       "      <th>1</th>\n",
       "      <td>신한카드(주)</td>\n",
       "      <td>23957</td>\n",
       "      <td>1026593</td>\n",
       "      <td>금융/재무</td>\n",
       "      <td>현직원</td>\n",
       "      <td>서울</td>\n",
       "      <td>2019/3/17</td>\n",
       "      <td>60</td>\n",
       "      <td>60</td>\n",
       "      <td>100</td>\n",
       "      <td>100</td>\n",
       "      <td>20</td>\n",
       "      <td>20</td>\n",
       "      <td>돈을 많이줌. 삼전 무선반도체 제외하고 국내 사기업 톱이라생각</td>\n",
       "      <td>업무문화가 정말 이상함. 허례허식, 쓸때없는거를 중시하고 전문가를 천대함.</td>\n",
       "      <td>은행에서 낙하산 내려보내지말고 정말 카드업을 아는사람으로 배치하라</td>\n",
       "      <td>NaN</td>\n",
       "      <td>이 기업을 추천하지 않습니다.</td>\n",
       "    </tr>\n",
       "    <tr>\n",
       "      <th>2</th>\n",
       "      <td>신한카드(주)</td>\n",
       "      <td>23957</td>\n",
       "      <td>1023953</td>\n",
       "      <td>서비스/고객지원</td>\n",
       "      <td>전직원</td>\n",
       "      <td>대전</td>\n",
       "      <td>2019/3/14</td>\n",
       "      <td>40</td>\n",
       "      <td>60</td>\n",
       "      <td>40</td>\n",
       "      <td>40</td>\n",
       "      <td>40</td>\n",
       "      <td>40</td>\n",
       "      <td>오래 재직한다면, 본인이 업무에 대해 배우고자 하는 열정이 있다면, 교육적인 부분에...</td>\n",
       "      <td>복지 제도의 부족, 출퇴근 시간이 전혀 지켜지지 않음(출근은 일찍, 퇴근은 늦게) ...</td>\n",
       "      <td>직원들의 불만을 듣고 개선하기 위해 노력하는 척이라도 보여줬으면 좋겠음.\\r회사 공...</td>\n",
       "      <td>비슷</td>\n",
       "      <td>이 기업을 추천하지 않습니다.</td>\n",
       "    </tr>\n",
       "    <tr>\n",
       "      <th>3</th>\n",
       "      <td>신한카드(주)</td>\n",
       "      <td>23957</td>\n",
       "      <td>1016246</td>\n",
       "      <td>생산/제조</td>\n",
       "      <td>전직원</td>\n",
       "      <td>서울</td>\n",
       "      <td>2019/3/9</td>\n",
       "      <td>60</td>\n",
       "      <td>60</td>\n",
       "      <td>60</td>\n",
       "      <td>60</td>\n",
       "      <td>60</td>\n",
       "      <td>60</td>\n",
       "      <td>복지카드 생일 기프트카드 옆에 보라매 공원이 잇어서 쉬기 좋다</td>\n",
       "      <td>단순업무 기계소리때문에 머리가 조금 아프다. 단순단순 하다., 미래가 없다. 외왜워...</td>\n",
       "      <td>시스템적으로  완벽 정규직채용을 바란다. 정규직이 아니면 미래가 없다</td>\n",
       "      <td>비슷</td>\n",
       "      <td>이 기업을 추천 합니다!</td>\n",
       "    </tr>\n",
       "    <tr>\n",
       "      <th>4</th>\n",
       "      <td>신한카드(주)</td>\n",
       "      <td>23957</td>\n",
       "      <td>1010197</td>\n",
       "      <td>금융/재무</td>\n",
       "      <td>전직원</td>\n",
       "      <td>서울</td>\n",
       "      <td>2019/3/5</td>\n",
       "      <td>40</td>\n",
       "      <td>40</td>\n",
       "      <td>60</td>\n",
       "      <td>40</td>\n",
       "      <td>60</td>\n",
       "      <td>40</td>\n",
       "      <td>성과제이기에 본인이 일한 만큼 받을 수 있음, 복리후생이 나쁘지는 않은편임</td>\n",
       "      <td>칼퇴불가, 성과강요가 있으며 성과가 눈에 보이지 않을경우 눈치가 보인다</td>\n",
       "      <td>직원들의 의견을 들어주셨으면 좋겠습니다.</td>\n",
       "      <td>비슷</td>\n",
       "      <td>이 기업을 추천하지 않습니다.</td>\n",
       "    </tr>\n",
       "  </tbody>\n",
       "</table>\n",
       "</div>"
      ],
      "text/plain": [
       "      회사이름   회사코드     리뷰코드      직종구분 재직상태 근무지역       등록일자  별점평가  승진기회  복지급여  \\\n",
       "0  신한카드(주)  23957  1030925     금융/재무  전직원   서울  2019/3/20    60    40   100   \n",
       "1  신한카드(주)  23957  1026593     금융/재무  현직원   서울  2019/3/17    60    60   100   \n",
       "2  신한카드(주)  23957  1023953  서비스/고객지원  전직원   대전  2019/3/14    40    60    40   \n",
       "3  신한카드(주)  23957  1016246     생산/제조  전직원   서울   2019/3/9    60    60    60   \n",
       "4  신한카드(주)  23957  1010197     금융/재무  전직원   서울   2019/3/5    40    40    60   \n",
       "\n",
       "   워라밸  사내문화  경영진                                               기업장점  \\\n",
       "0   60    60   40               하는  업무에  비해  급여를  많이  받는다는  느낌이  든다.   \n",
       "1  100    20   20                 돈을 많이줌. 삼전 무선반도체 제외하고 국내 사기업 톱이라생각   \n",
       "2   40    40   40  오래 재직한다면, 본인이 업무에 대해 배우고자 하는 열정이 있다면, 교육적인 부분에...   \n",
       "3   60    60   60                 복지카드 생일 기프트카드 옆에 보라매 공원이 잇어서 쉬기 좋다   \n",
       "4   40    60   40          성과제이기에 본인이 일한 만큼 받을 수 있음, 복리후생이 나쁘지는 않은편임   \n",
       "\n",
       "                                                기업단점  \\\n",
       "0  관리자들이  별로다.  눈앞의  이익만  생각하고  개개인의  개인  플레이가  심하다.   \n",
       "1          업무문화가 정말 이상함. 허례허식, 쓸때없는거를 중시하고 전문가를 천대함.   \n",
       "2  복지 제도의 부족, 출퇴근 시간이 전혀 지켜지지 않음(출근은 일찍, 퇴근은 늦게) ...   \n",
       "3  단순업무 기계소리때문에 머리가 조금 아프다. 단순단순 하다., 미래가 없다. 외왜워...   \n",
       "4            칼퇴불가, 성과강요가 있으며 성과가 눈에 보이지 않을경우 눈치가 보인다   \n",
       "\n",
       "                                                바라는점 성장예상              추천여부  \n",
       "0  기업의  미래를  생각했으면 한다 어떤 점이  회사애  도움이  될지를  생각했으면...   비슷     이 기업을 추천 합니다!  \n",
       "1               은행에서 낙하산 내려보내지말고 정말 카드업을 아는사람으로 배치하라  NaN  이 기업을 추천하지 않습니다.  \n",
       "2  직원들의 불만을 듣고 개선하기 위해 노력하는 척이라도 보여줬으면 좋겠음.\\r회사 공...   비슷  이 기업을 추천하지 않습니다.  \n",
       "3             시스템적으로  완벽 정규직채용을 바란다. 정규직이 아니면 미래가 없다   비슷     이 기업을 추천 합니다!  \n",
       "4                             직원들의 의견을 들어주셨으면 좋겠습니다.   비슷  이 기업을 추천하지 않습니다.  "
      ]
     },
     "execution_count": 4,
     "metadata": {},
     "output_type": "execute_result"
    }
   ],
   "source": [
    "df.head()"
   ]
  },
  {
   "cell_type": "code",
   "execution_count": 5,
   "metadata": {},
   "outputs": [
    {
     "name": "stdout",
     "output_type": "stream",
     "text": [
      "<class 'pandas.core.frame.DataFrame'>\n",
      "RangeIndex: 143 entries, 0 to 142\n",
      "Data columns (total 18 columns):\n",
      "회사이름    143 non-null object\n",
      "회사코드    143 non-null int64\n",
      "리뷰코드    143 non-null int64\n",
      "직종구분    143 non-null object\n",
      "재직상태    143 non-null object\n",
      "근무지역    143 non-null object\n",
      "등록일자    143 non-null object\n",
      "별점평가    143 non-null int64\n",
      "승진기회    143 non-null int64\n",
      "복지급여    143 non-null int64\n",
      "워라밸     143 non-null int64\n",
      "사내문화    143 non-null int64\n",
      "경영진     143 non-null int64\n",
      "기업장점    143 non-null object\n",
      "기업단점    143 non-null object\n",
      "바라는점    142 non-null object\n",
      "성장예상    126 non-null object\n",
      "추천여부    143 non-null object\n",
      "dtypes: int64(8), object(10)\n",
      "memory usage: 20.2+ KB\n"
     ]
    }
   ],
   "source": [
    "df.info()"
   ]
  },
  {
   "cell_type": "code",
   "execution_count": 6,
   "metadata": {},
   "outputs": [
    {
     "data": {
      "text/plain": [
       "회사이름     0\n",
       "회사코드     0\n",
       "리뷰코드     0\n",
       "직종구분     0\n",
       "재직상태     0\n",
       "근무지역     0\n",
       "등록일자     0\n",
       "별점평가     0\n",
       "승진기회     0\n",
       "복지급여     0\n",
       "워라밸      0\n",
       "사내문화     0\n",
       "경영진      0\n",
       "기업장점     0\n",
       "기업단점     0\n",
       "바라는점     1\n",
       "성장예상    17\n",
       "추천여부     0\n",
       "dtype: int64"
      ]
     },
     "execution_count": 6,
     "metadata": {},
     "output_type": "execute_result"
    }
   ],
   "source": [
    "# null check\n",
    "df.isnull().sum()"
   ]
  },
  {
   "cell_type": "markdown",
   "metadata": {},
   "source": [
    "### numeric feature (별점정보) 활용 분석  "
   ]
  },
  {
   "cell_type": "code",
   "execution_count": 7,
   "metadata": {},
   "outputs": [],
   "source": [
    "df_sub = df[['별점평가', '승진기회', '복지급여', '워라밸', '사내문화', '경영진']]"
   ]
  },
  {
   "cell_type": "code",
   "execution_count": 8,
   "metadata": {},
   "outputs": [
    {
     "data": {
      "text/html": [
       "<div>\n",
       "<style scoped>\n",
       "    .dataframe tbody tr th:only-of-type {\n",
       "        vertical-align: middle;\n",
       "    }\n",
       "\n",
       "    .dataframe tbody tr th {\n",
       "        vertical-align: top;\n",
       "    }\n",
       "\n",
       "    .dataframe thead th {\n",
       "        text-align: right;\n",
       "    }\n",
       "</style>\n",
       "<table border=\"1\" class=\"dataframe\">\n",
       "  <thead>\n",
       "    <tr style=\"text-align: right;\">\n",
       "      <th></th>\n",
       "      <th>별점평가</th>\n",
       "      <th>승진기회</th>\n",
       "      <th>복지급여</th>\n",
       "      <th>워라밸</th>\n",
       "      <th>사내문화</th>\n",
       "      <th>경영진</th>\n",
       "    </tr>\n",
       "  </thead>\n",
       "  <tbody>\n",
       "    <tr>\n",
       "      <th>0</th>\n",
       "      <td>60</td>\n",
       "      <td>40</td>\n",
       "      <td>100</td>\n",
       "      <td>60</td>\n",
       "      <td>60</td>\n",
       "      <td>40</td>\n",
       "    </tr>\n",
       "    <tr>\n",
       "      <th>1</th>\n",
       "      <td>60</td>\n",
       "      <td>60</td>\n",
       "      <td>100</td>\n",
       "      <td>100</td>\n",
       "      <td>20</td>\n",
       "      <td>20</td>\n",
       "    </tr>\n",
       "    <tr>\n",
       "      <th>2</th>\n",
       "      <td>40</td>\n",
       "      <td>60</td>\n",
       "      <td>40</td>\n",
       "      <td>40</td>\n",
       "      <td>40</td>\n",
       "      <td>40</td>\n",
       "    </tr>\n",
       "    <tr>\n",
       "      <th>3</th>\n",
       "      <td>60</td>\n",
       "      <td>60</td>\n",
       "      <td>60</td>\n",
       "      <td>60</td>\n",
       "      <td>60</td>\n",
       "      <td>60</td>\n",
       "    </tr>\n",
       "    <tr>\n",
       "      <th>4</th>\n",
       "      <td>40</td>\n",
       "      <td>40</td>\n",
       "      <td>60</td>\n",
       "      <td>40</td>\n",
       "      <td>60</td>\n",
       "      <td>40</td>\n",
       "    </tr>\n",
       "  </tbody>\n",
       "</table>\n",
       "</div>"
      ],
      "text/plain": [
       "   별점평가  승진기회  복지급여  워라밸  사내문화  경영진\n",
       "0    60    40   100   60    60   40\n",
       "1    60    60   100  100    20   20\n",
       "2    40    60    40   40    40   40\n",
       "3    60    60    60   60    60   60\n",
       "4    40    40    60   40    60   40"
      ]
     },
     "execution_count": 8,
     "metadata": {},
     "output_type": "execute_result"
    }
   ],
   "source": [
    "df_sub.head()"
   ]
  },
  {
   "cell_type": "markdown",
   "metadata": {},
   "source": [
    "#### correlation check"
   ]
  },
  {
   "cell_type": "code",
   "execution_count": 9,
   "metadata": {},
   "outputs": [
    {
     "data": {
      "text/html": [
       "<div>\n",
       "<style scoped>\n",
       "    .dataframe tbody tr th:only-of-type {\n",
       "        vertical-align: middle;\n",
       "    }\n",
       "\n",
       "    .dataframe tbody tr th {\n",
       "        vertical-align: top;\n",
       "    }\n",
       "\n",
       "    .dataframe thead th {\n",
       "        text-align: right;\n",
       "    }\n",
       "</style>\n",
       "<table border=\"1\" class=\"dataframe\">\n",
       "  <thead>\n",
       "    <tr style=\"text-align: right;\">\n",
       "      <th></th>\n",
       "      <th>별점평가</th>\n",
       "      <th>승진기회</th>\n",
       "      <th>복지급여</th>\n",
       "      <th>워라밸</th>\n",
       "      <th>사내문화</th>\n",
       "      <th>경영진</th>\n",
       "    </tr>\n",
       "  </thead>\n",
       "  <tbody>\n",
       "    <tr>\n",
       "      <th>별점평가</th>\n",
       "      <td>1.000000</td>\n",
       "      <td>0.536313</td>\n",
       "      <td>0.611900</td>\n",
       "      <td>0.625217</td>\n",
       "      <td>0.628027</td>\n",
       "      <td>0.579671</td>\n",
       "    </tr>\n",
       "    <tr>\n",
       "      <th>승진기회</th>\n",
       "      <td>0.536313</td>\n",
       "      <td>1.000000</td>\n",
       "      <td>0.408182</td>\n",
       "      <td>0.355623</td>\n",
       "      <td>0.351435</td>\n",
       "      <td>0.475225</td>\n",
       "    </tr>\n",
       "    <tr>\n",
       "      <th>복지급여</th>\n",
       "      <td>0.611900</td>\n",
       "      <td>0.408182</td>\n",
       "      <td>1.000000</td>\n",
       "      <td>0.489365</td>\n",
       "      <td>0.405769</td>\n",
       "      <td>0.421416</td>\n",
       "    </tr>\n",
       "    <tr>\n",
       "      <th>워라밸</th>\n",
       "      <td>0.625217</td>\n",
       "      <td>0.355623</td>\n",
       "      <td>0.489365</td>\n",
       "      <td>1.000000</td>\n",
       "      <td>0.565596</td>\n",
       "      <td>0.482003</td>\n",
       "    </tr>\n",
       "    <tr>\n",
       "      <th>사내문화</th>\n",
       "      <td>0.628027</td>\n",
       "      <td>0.351435</td>\n",
       "      <td>0.405769</td>\n",
       "      <td>0.565596</td>\n",
       "      <td>1.000000</td>\n",
       "      <td>0.702010</td>\n",
       "    </tr>\n",
       "    <tr>\n",
       "      <th>경영진</th>\n",
       "      <td>0.579671</td>\n",
       "      <td>0.475225</td>\n",
       "      <td>0.421416</td>\n",
       "      <td>0.482003</td>\n",
       "      <td>0.702010</td>\n",
       "      <td>1.000000</td>\n",
       "    </tr>\n",
       "  </tbody>\n",
       "</table>\n",
       "</div>"
      ],
      "text/plain": [
       "          별점평가      승진기회      복지급여       워라밸      사내문화       경영진\n",
       "별점평가  1.000000  0.536313  0.611900  0.625217  0.628027  0.579671\n",
       "승진기회  0.536313  1.000000  0.408182  0.355623  0.351435  0.475225\n",
       "복지급여  0.611900  0.408182  1.000000  0.489365  0.405769  0.421416\n",
       "워라밸   0.625217  0.355623  0.489365  1.000000  0.565596  0.482003\n",
       "사내문화  0.628027  0.351435  0.405769  0.565596  1.000000  0.702010\n",
       "경영진   0.579671  0.475225  0.421416  0.482003  0.702010  1.000000"
      ]
     },
     "execution_count": 9,
     "metadata": {},
     "output_type": "execute_result"
    }
   ],
   "source": [
    "corr = df_sub.corr()\n",
    "corr"
   ]
  },
  {
   "cell_type": "code",
   "execution_count": 49,
   "metadata": {},
   "outputs": [
    {
     "data": {
      "image/png": "[encoded data removed]",
      "text/plain": [
       "<Figure size 432x288 with 1 Axes>"
      ]
     },
     "metadata": {
      "needs_background": "light"
     },
     "output_type": "display_data"
    }
   ],
   "source": [
    "plt.imshow(corr, cmap='Blues')\n",
    "plt.show()"
   ]
  },
  {
   "cell_type": "markdown",
   "metadata": {},
   "source": [
    "별점평가 - 복지급여/워라밸/사내문화 상관관계 있는 것으로 나타남 <br>\n",
    "사내문화 - 경영진 상관관계 높아 향후 regression 수행 시 고려 필요 "
   ]
  },
  {
   "cell_type": "markdown",
   "metadata": {},
   "source": [
    "#### data distribution check"
   ]
  },
  {
   "cell_type": "code",
   "execution_count": 10,
   "metadata": {},
   "outputs": [
    {
     "data": {
      "text/html": [
       "<div>\n",
       "<style scoped>\n",
       "    .dataframe tbody tr th:only-of-type {\n",
       "        vertical-align: middle;\n",
       "    }\n",
       "\n",
       "    .dataframe tbody tr th {\n",
       "        vertical-align: top;\n",
       "    }\n",
       "\n",
       "    .dataframe thead th {\n",
       "        text-align: right;\n",
       "    }\n",
       "</style>\n",
       "<table border=\"1\" class=\"dataframe\">\n",
       "  <thead>\n",
       "    <tr style=\"text-align: right;\">\n",
       "      <th></th>\n",
       "      <th>별점평가</th>\n",
       "      <th>승진기회</th>\n",
       "      <th>복지급여</th>\n",
       "      <th>워라밸</th>\n",
       "      <th>사내문화</th>\n",
       "      <th>경영진</th>\n",
       "    </tr>\n",
       "  </thead>\n",
       "  <tbody>\n",
       "    <tr>\n",
       "      <th>count</th>\n",
       "      <td>143.000000</td>\n",
       "      <td>143.000000</td>\n",
       "      <td>143.000000</td>\n",
       "      <td>143.000000</td>\n",
       "      <td>143.000000</td>\n",
       "      <td>143.000000</td>\n",
       "    </tr>\n",
       "    <tr>\n",
       "      <th>mean</th>\n",
       "      <td>62.517483</td>\n",
       "      <td>53.286713</td>\n",
       "      <td>71.608392</td>\n",
       "      <td>57.202797</td>\n",
       "      <td>56.223776</td>\n",
       "      <td>50.629371</td>\n",
       "    </tr>\n",
       "    <tr>\n",
       "      <th>std</th>\n",
       "      <td>18.819698</td>\n",
       "      <td>21.222371</td>\n",
       "      <td>21.416406</td>\n",
       "      <td>19.515454</td>\n",
       "      <td>22.259804</td>\n",
       "      <td>20.252518</td>\n",
       "    </tr>\n",
       "    <tr>\n",
       "      <th>min</th>\n",
       "      <td>20.000000</td>\n",
       "      <td>20.000000</td>\n",
       "      <td>20.000000</td>\n",
       "      <td>20.000000</td>\n",
       "      <td>20.000000</td>\n",
       "      <td>20.000000</td>\n",
       "    </tr>\n",
       "    <tr>\n",
       "      <th>25%</th>\n",
       "      <td>60.000000</td>\n",
       "      <td>40.000000</td>\n",
       "      <td>60.000000</td>\n",
       "      <td>40.000000</td>\n",
       "      <td>40.000000</td>\n",
       "      <td>40.000000</td>\n",
       "    </tr>\n",
       "    <tr>\n",
       "      <th>50%</th>\n",
       "      <td>60.000000</td>\n",
       "      <td>60.000000</td>\n",
       "      <td>80.000000</td>\n",
       "      <td>60.000000</td>\n",
       "      <td>60.000000</td>\n",
       "      <td>60.000000</td>\n",
       "    </tr>\n",
       "    <tr>\n",
       "      <th>75%</th>\n",
       "      <td>80.000000</td>\n",
       "      <td>60.000000</td>\n",
       "      <td>80.000000</td>\n",
       "      <td>60.000000</td>\n",
       "      <td>80.000000</td>\n",
       "      <td>60.000000</td>\n",
       "    </tr>\n",
       "    <tr>\n",
       "      <th>max</th>\n",
       "      <td>100.000000</td>\n",
       "      <td>100.000000</td>\n",
       "      <td>100.000000</td>\n",
       "      <td>100.000000</td>\n",
       "      <td>100.000000</td>\n",
       "      <td>100.000000</td>\n",
       "    </tr>\n",
       "  </tbody>\n",
       "</table>\n",
       "</div>"
      ],
      "text/plain": [
       "             별점평가        승진기회        복지급여         워라밸        사내문화         경영진\n",
       "count  143.000000  143.000000  143.000000  143.000000  143.000000  143.000000\n",
       "mean    62.517483   53.286713   71.608392   57.202797   56.223776   50.629371\n",
       "std     18.819698   21.222371   21.416406   19.515454   22.259804   20.252518\n",
       "min     20.000000   20.000000   20.000000   20.000000   20.000000   20.000000\n",
       "25%     60.000000   40.000000   60.000000   40.000000   40.000000   40.000000\n",
       "50%     60.000000   60.000000   80.000000   60.000000   60.000000   60.000000\n",
       "75%     80.000000   60.000000   80.000000   60.000000   80.000000   60.000000\n",
       "max    100.000000  100.000000  100.000000  100.000000  100.000000  100.000000"
      ]
     },
     "execution_count": 10,
     "metadata": {},
     "output_type": "execute_result"
    }
   ],
   "source": [
    "df_sub.describe()"
   ]
  },
  {
   "cell_type": "code",
   "execution_count": 11,
   "metadata": {},
   "outputs": [
    {
     "data": {
      "text/plain": [
       "<matplotlib.axes._subplots.AxesSubplot at 0x1efc7021fd0>"
      ]
     },
     "execution_count": 11,
     "metadata": {},
     "output_type": "execute_result"
    },
    {
     "data": {
      "image/png": "[encoded data removed]",
      "text/plain": [
       "<Figure size 432x288 with 1 Axes>"
      ]
     },
     "metadata": {
      "needs_background": "light"
     },
     "output_type": "display_data"
    }
   ],
   "source": [
    "sns.boxplot(data = df_sub)"
   ]
  },
  {
   "cell_type": "markdown",
   "metadata": {},
   "source": [
    "승진기회/워라밸/경영진 상대적으로 낮은 점수대에 분포 & 평균 낮게 나타남 <br>\n",
    "복지급여 점수 높음 <br>\n",
    "사내문화 점수 편차 큼 <br>"
   ]
  },
  {
   "cell_type": "markdown",
   "metadata": {},
   "source": [
    "### linear regression"
   ]
  },
  {
   "cell_type": "markdown",
   "metadata": {},
   "source": [
    "#### train/test split"
   ]
  },
  {
   "cell_type": "code",
   "execution_count": 12,
   "metadata": {},
   "outputs": [],
   "source": [
    "from sklearn.model_selection import train_test_split"
   ]
  },
  {
   "cell_type": "code",
   "execution_count": 13,
   "metadata": {},
   "outputs": [],
   "source": [
    "x = df_sub.iloc[:,1:]\n",
    "y = df_sub.iloc[:,0]"
   ]
  },
  {
   "cell_type": "code",
   "execution_count": 14,
   "metadata": {},
   "outputs": [
    {
     "data": {
      "text/html": [
       "<div>\n",
       "<style scoped>\n",
       "    .dataframe tbody tr th:only-of-type {\n",
       "        vertical-align: middle;\n",
       "    }\n",
       "\n",
       "    .dataframe tbody tr th {\n",
       "        vertical-align: top;\n",
       "    }\n",
       "\n",
       "    .dataframe thead th {\n",
       "        text-align: right;\n",
       "    }\n",
       "</style>\n",
       "<table border=\"1\" class=\"dataframe\">\n",
       "  <thead>\n",
       "    <tr style=\"text-align: right;\">\n",
       "      <th></th>\n",
       "      <th>승진기회</th>\n",
       "      <th>복지급여</th>\n",
       "      <th>워라밸</th>\n",
       "      <th>사내문화</th>\n",
       "      <th>경영진</th>\n",
       "    </tr>\n",
       "  </thead>\n",
       "  <tbody>\n",
       "    <tr>\n",
       "      <th>0</th>\n",
       "      <td>40</td>\n",
       "      <td>100</td>\n",
       "      <td>60</td>\n",
       "      <td>60</td>\n",
       "      <td>40</td>\n",
       "    </tr>\n",
       "    <tr>\n",
       "      <th>1</th>\n",
       "      <td>60</td>\n",
       "      <td>100</td>\n",
       "      <td>100</td>\n",
       "      <td>20</td>\n",
       "      <td>20</td>\n",
       "    </tr>\n",
       "    <tr>\n",
       "      <th>2</th>\n",
       "      <td>60</td>\n",
       "      <td>40</td>\n",
       "      <td>40</td>\n",
       "      <td>40</td>\n",
       "      <td>40</td>\n",
       "    </tr>\n",
       "    <tr>\n",
       "      <th>3</th>\n",
       "      <td>60</td>\n",
       "      <td>60</td>\n",
       "      <td>60</td>\n",
       "      <td>60</td>\n",
       "      <td>60</td>\n",
       "    </tr>\n",
       "    <tr>\n",
       "      <th>4</th>\n",
       "      <td>40</td>\n",
       "      <td>60</td>\n",
       "      <td>40</td>\n",
       "      <td>60</td>\n",
       "      <td>40</td>\n",
       "    </tr>\n",
       "  </tbody>\n",
       "</table>\n",
       "</div>"
      ],
      "text/plain": [
       "   승진기회  복지급여  워라밸  사내문화  경영진\n",
       "0    40   100   60    60   40\n",
       "1    60   100  100    20   20\n",
       "2    60    40   40    40   40\n",
       "3    60    60   60    60   60\n",
       "4    40    60   40    60   40"
      ]
     },
     "execution_count": 14,
     "metadata": {},
     "output_type": "execute_result"
    }
   ],
   "source": [
    "x.head()"
   ]
  },
  {
   "cell_type": "code",
   "execution_count": 15,
   "metadata": {},
   "outputs": [
    {
     "data": {
      "text/plain": [
       "0    60\n",
       "1    60\n",
       "2    40\n",
       "3    60\n",
       "4    40\n",
       "Name: 별점평가, dtype: int64"
      ]
     },
     "execution_count": 15,
     "metadata": {},
     "output_type": "execute_result"
    }
   ],
   "source": [
    "y.head()"
   ]
  },
  {
   "cell_type": "code",
   "execution_count": 16,
   "metadata": {},
   "outputs": [],
   "source": [
    "x_train, x_test, y_train, y_test = train_test_split(x, y, random_state=7, test_size = 0.3)"
   ]
  },
  {
   "cell_type": "markdown",
   "metadata": {},
   "source": [
    "#### fitting"
   ]
  },
  {
   "cell_type": "code",
   "execution_count": 17,
   "metadata": {},
   "outputs": [],
   "source": [
    "from sklearn.linear_model import LinearRegression"
   ]
  },
  {
   "cell_type": "code",
   "execution_count": 18,
   "metadata": {},
   "outputs": [],
   "source": [
    "from sklearn.metrics import classification_report, confusion_matrix"
   ]
  },
  {
   "cell_type": "code",
   "execution_count": 19,
   "metadata": {},
   "outputs": [],
   "source": [
    "lr = LinearRegression()"
   ]
  },
  {
   "cell_type": "code",
   "execution_count": 20,
   "metadata": {},
   "outputs": [
    {
     "data": {
      "text/plain": [
       "LinearRegression(copy_X=True, fit_intercept=True, n_jobs=None,\n",
       "         normalize=False)"
      ]
     },
     "execution_count": 20,
     "metadata": {},
     "output_type": "execute_result"
    }
   ],
   "source": [
    "lr.fit(x_train, y_train)"
   ]
  },
  {
   "cell_type": "code",
   "execution_count": 22,
   "metadata": {
    "scrolled": false
   },
   "outputs": [
    {
     "data": {
      "text/plain": [
       "array([0.17311566, 0.28955039, 0.21062948, 0.17710548, 0.02690472])"
      ]
     },
     "execution_count": 22,
     "metadata": {},
     "output_type": "execute_result"
    }
   ],
   "source": [
    "lr.coef_"
   ]
  },
  {
   "cell_type": "code",
   "execution_count": 23,
   "metadata": {},
   "outputs": [
    {
     "data": {
      "text/plain": [
       "0.5635119587291584"
      ]
     },
     "execution_count": 23,
     "metadata": {},
     "output_type": "execute_result"
    }
   ],
   "source": [
    "lr.score(x_test, y_test)"
   ]
  },
  {
   "cell_type": "code",
   "execution_count": 24,
   "metadata": {},
   "outputs": [],
   "source": [
    "y_pred_lr = lr.predict(x_test)"
   ]
  },
  {
   "cell_type": "code",
   "execution_count": 33,
   "metadata": {},
   "outputs": [
    {
     "data": {
      "text/plain": [
       "<matplotlib.axes._subplots.AxesSubplot at 0x1efc9994c50>"
      ]
     },
     "execution_count": 33,
     "metadata": {},
     "output_type": "execute_result"
    },
    {
     "data": {
      "image/png": "[encoded data removed]",
      "text/plain": [
       "<Figure size 432x288 with 1 Axes>"
      ]
     },
     "metadata": {
      "needs_background": "light"
     },
     "output_type": "display_data"
    }
   ],
   "source": [
    "x, y = pd.Series(y_test, name=\"y_actual\"), pd.Series(y_pred_lr, name=\"y_pred\")\n",
    "sns.regplot(x=x, y=y)"
   ]
  },
  {
   "cell_type": "markdown",
   "metadata": {},
   "source": [
    "### random forest"
   ]
  },
  {
   "cell_type": "code",
   "execution_count": 35,
   "metadata": {},
   "outputs": [],
   "source": [
    "from sklearn.ensemble import RandomForestRegressor"
   ]
  },
  {
   "cell_type": "code",
   "execution_count": 36,
   "metadata": {},
   "outputs": [],
   "source": [
    "rf = RandomForestRegressor(n_estimators = 100, max_features = None, oob_score = True\n",
    "                           , min_samples_split = 10, random_state = 7)"
   ]
  },
  {
   "cell_type": "code",
   "execution_count": 37,
   "metadata": {},
   "outputs": [
    {
     "data": {
      "text/plain": [
       "RandomForestRegressor(bootstrap=True, criterion='mse', max_depth=None,\n",
       "           max_features=None, max_leaf_nodes=None,\n",
       "           min_impurity_decrease=0.0, min_impurity_split=None,\n",
       "           min_samples_leaf=1, min_samples_split=10,\n",
       "           min_weight_fraction_leaf=0.0, n_estimators=100, n_jobs=None,\n",
       "           oob_score=True, random_state=7, verbose=0, warm_start=False)"
      ]
     },
     "execution_count": 37,
     "metadata": {},
     "output_type": "execute_result"
    }
   ],
   "source": [
    "rf.fit(x_train, y_train)"
   ]
  },
  {
   "cell_type": "code",
   "execution_count": 38,
   "metadata": {},
   "outputs": [
    {
     "data": {
      "text/plain": [
       "array([0.11549778, 0.25345023, 0.34846494, 0.1477859 , 0.13480114])"
      ]
     },
     "execution_count": 38,
     "metadata": {},
     "output_type": "execute_result"
    }
   ],
   "source": [
    "rf.feature_importances_"
   ]
  },
  {
   "cell_type": "code",
   "execution_count": 39,
   "metadata": {
    "scrolled": true
   },
   "outputs": [
    {
     "data": {
      "text/plain": [
       "0.5292805971513551"
      ]
     },
     "execution_count": 39,
     "metadata": {},
     "output_type": "execute_result"
    }
   ],
   "source": [
    "rf.score(x_test, y_test)"
   ]
  },
  {
   "cell_type": "code",
   "execution_count": 40,
   "metadata": {},
   "outputs": [],
   "source": [
    "y_pred_rf = rf.predict(x_test)"
   ]
  },
  {
   "cell_type": "code",
   "execution_count": 43,
   "metadata": {},
   "outputs": [
    {
     "data": {
      "text/plain": [
       "<matplotlib.axes._subplots.AxesSubplot at 0x1efca7c7c50>"
      ]
     },
     "execution_count": 43,
     "metadata": {},
     "output_type": "execute_result"
    },
    {
     "data": {
      "image/png": "[encoded data removed]",
      "text/plain": [
       "<Figure size 432x288 with 1 Axes>"
      ]
     },
     "metadata": {
      "needs_background": "light"
     },
     "output_type": "display_data"
    }
   ],
   "source": [
    "x, y = pd.Series(y_test, name=\"y_actual\"), pd.Series(y_pred_rf, name=\"y_pred\")\n",
    "sns.regplot(x=x, y=y)"
   ]
  },
  {
   "cell_type": "code",
   "execution_count": null,
   "metadata": {},
   "outputs": [],
   "source": []
  }
 ],
 "metadata": {
  "kernelspec": {
   "display_name": "Python 3",
   "language": "python",
   "name": "python3"
  },
  "language_info": {
   "codemirror_mode": {
    "name": "ipython",
    "version": 3
   },
   "file_extension": ".py",
   "mimetype": "text/x-python",
   "name": "python",
   "nbconvert_exporter": "python",
   "pygments_lexer": "ipython3",
   "version": "3.7.3"
  }
 },
 "nbformat": 4,
 "nbformat_minor": 2
}
