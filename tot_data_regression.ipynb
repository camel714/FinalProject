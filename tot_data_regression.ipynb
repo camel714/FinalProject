{
 "cells": [
  {
   "cell_type": "code",
   "execution_count": 1,
   "metadata": {},
   "outputs": [],
   "source": [
    "import pandas as pd \n",
    "import numpy as np \n",
    "\n",
    "import matplotlib.pyplot as plt \n",
    "plt.style.use('seaborn-white')\n",
    "\n",
    "%matplotlib inline\n",
    "\n",
    "import seaborn as sns"
   ]
  },
  {
   "cell_type": "markdown",
   "metadata": {},
   "source": [
    "### 1.Data Load "
   ]
  },
  {
   "cell_type": "markdown",
   "metadata": {},
   "source": [
    "기존 파일 인코딩 'CP949' -> 'UTF-8' 변경하여 data read"
   ]
  },
  {
   "cell_type": "code",
   "execution_count": 2,
   "metadata": {},
   "outputs": [],
   "source": [
    "df = pd.read_csv('DFE_project_data_raw.csv', sep = ',', encoding = 'UTF-8')"
   ]
  },
  {
   "cell_type": "code",
   "execution_count": 3,
   "metadata": {},
   "outputs": [
    {
     "data": {
      "text/html": [
       "<div>\n",
       "<style scoped>\n",
       "    .dataframe tbody tr th:only-of-type {\n",
       "        vertical-align: middle;\n",
       "    }\n",
       "\n",
       "    .dataframe tbody tr th {\n",
       "        vertical-align: top;\n",
       "    }\n",
       "\n",
       "    .dataframe thead th {\n",
       "        text-align: right;\n",
       "    }\n",
       "</style>\n",
       "<table border=\"1\" class=\"dataframe\">\n",
       "  <thead>\n",
       "    <tr style=\"text-align: right;\">\n",
       "      <th></th>\n",
       "      <th>회사이름</th>\n",
       "      <th>회사코드</th>\n",
       "      <th>리뷰코드</th>\n",
       "      <th>직종구분</th>\n",
       "      <th>재직상태</th>\n",
       "      <th>근무지역</th>\n",
       "      <th>등록일자</th>\n",
       "      <th>별점평가</th>\n",
       "      <th>승진기회</th>\n",
       "      <th>복지급여</th>\n",
       "      <th>워라밸</th>\n",
       "      <th>사내문화</th>\n",
       "      <th>경영진</th>\n",
       "      <th>기업장점</th>\n",
       "      <th>기업단점</th>\n",
       "      <th>바라는점</th>\n",
       "      <th>성장예상</th>\n",
       "      <th>추천여부</th>\n",
       "    </tr>\n",
       "  </thead>\n",
       "  <tbody>\n",
       "    <tr>\n",
       "      <th>0</th>\n",
       "      <td>삼성전자(주)</td>\n",
       "      <td>30139</td>\n",
       "      <td>1084668</td>\n",
       "      <td>경영/기획/컨설팅</td>\n",
       "      <td>전직원</td>\n",
       "      <td>해외</td>\n",
       "      <td>2019-04-18</td>\n",
       "      <td>80</td>\n",
       "      <td>80</td>\n",
       "      <td>80</td>\n",
       "      <td>60</td>\n",
       "      <td>60</td>\n",
       "      <td>80</td>\n",
       "      <td>연봉과 복리후생이 매우 좋으며 열심히 하면(운도 필요하지만) 기회가 주어지는 곳. ...</td>\n",
       "      <td>조직이 방대하여 의사결정이 느리고 소통이 잘 되지 않음. 보신주의, 상명하복, 줄서...</td>\n",
       "      <td>단기 성과주의를 경계해야 함. 최고경영진은 장기비전과 미래를 고민하나 적지 않은 수...</td>\n",
       "      <td>비슷</td>\n",
       "      <td>이 기업을 추천 합니다!</td>\n",
       "    </tr>\n",
       "    <tr>\n",
       "      <th>1</th>\n",
       "      <td>삼성전자(주)</td>\n",
       "      <td>30139</td>\n",
       "      <td>1084223</td>\n",
       "      <td>생산관리/품질관리</td>\n",
       "      <td>전직원</td>\n",
       "      <td>경기</td>\n",
       "      <td>2019-04-18</td>\n",
       "      <td>80</td>\n",
       "      <td>60</td>\n",
       "      <td>100</td>\n",
       "      <td>80</td>\n",
       "      <td>80</td>\n",
       "      <td>80</td>\n",
       "      <td>글로벌 1위기업답게 체계적인 시스템으로 돌아가는 조직문화와 업무진행</td>\n",
       "      <td>굉장히 전문적이라서 본인의 업무외엔 전혀 모름다양하게 배우기는 어려움</td>\n",
       "      <td>다양한 조직문화 활동으로 많이 좋아지고 있지만아직도 갑질 문화가 남아있다. 근절이 필요!</td>\n",
       "      <td>성장</td>\n",
       "      <td>이 기업을 추천 합니다!</td>\n",
       "    </tr>\n",
       "    <tr>\n",
       "      <th>2</th>\n",
       "      <td>삼성전자(주)</td>\n",
       "      <td>30139</td>\n",
       "      <td>1083148</td>\n",
       "      <td>인사/총무</td>\n",
       "      <td>전직원</td>\n",
       "      <td>경기</td>\n",
       "      <td>2019-04-17</td>\n",
       "      <td>80</td>\n",
       "      <td>20</td>\n",
       "      <td>100</td>\n",
       "      <td>100</td>\n",
       "      <td>80</td>\n",
       "      <td>80</td>\n",
       "      <td>아침 점심 저녁 다 제공, 셔틀버스도 운영되고 근무환경 좋음급여가 하는일에 비해 많음</td>\n",
       "      <td>사업부 내에 자주 조직이 변경되어 맡는 팀들이 자주 바뀜</td>\n",
       "      <td>파견직에서 업무평가로 계약직 정규직 전환 기회부여되었음 좋겠자</td>\n",
       "      <td>성장</td>\n",
       "      <td>이 기업을 추천 합니다!</td>\n",
       "    </tr>\n",
       "    <tr>\n",
       "      <th>3</th>\n",
       "      <td>삼성전자(주)</td>\n",
       "      <td>30139</td>\n",
       "      <td>1082388</td>\n",
       "      <td>마케팅/시장조사</td>\n",
       "      <td>현직원</td>\n",
       "      <td>경기</td>\n",
       "      <td>2019-04-17</td>\n",
       "      <td>80</td>\n",
       "      <td>60</td>\n",
       "      <td>100</td>\n",
       "      <td>100</td>\n",
       "      <td>60</td>\n",
       "      <td>60</td>\n",
       "      <td>복지에 있어서 혜택을 볼 수 있는 것이 많다.\\r업무 분업화가 잘되어 있어 자신의 ...</td>\n",
       "      <td>부서별로 워라밸이 굉장히 다르다 (특히, 개발직군은 최악)\\r업무 분업화가 너무 되...</td>\n",
       "      <td>직원들의 불만을 지속적으로 취합하고 있으면, 그에 대한 회사 차원에서의 대응이 실질...</td>\n",
       "      <td>비슷</td>\n",
       "      <td>이 기업을 추천 합니다!</td>\n",
       "    </tr>\n",
       "    <tr>\n",
       "      <th>4</th>\n",
       "      <td>삼성전자(주)</td>\n",
       "      <td>30139</td>\n",
       "      <td>1081430</td>\n",
       "      <td>생산/제조</td>\n",
       "      <td>전직원</td>\n",
       "      <td>경기</td>\n",
       "      <td>2019-04-17</td>\n",
       "      <td>60</td>\n",
       "      <td>60</td>\n",
       "      <td>100</td>\n",
       "      <td>40</td>\n",
       "      <td>60</td>\n",
       "      <td>60</td>\n",
       "      <td>야근수당을 챙겨준다. 밥을 잘 먹을 수 있다. 월차, 연차를 쓰지 못하면 다른 방법...</td>\n",
       "      <td>단순 업무의 반복, 근무시간이 길어질 때가 있어 육체적으로 피로하다. 워라벨을 포기...</td>\n",
       "      <td>합리적인 복지 및 보상 체계를 마련해주고 직원들의 이야기를 잘 들어주었으면 좋겠다.</td>\n",
       "      <td>성장</td>\n",
       "      <td>이 기업을 추천 합니다!</td>\n",
       "    </tr>\n",
       "  </tbody>\n",
       "</table>\n",
       "</div>"
      ],
      "text/plain": [
       "      회사이름   회사코드     리뷰코드       직종구분 재직상태 근무지역        등록일자  별점평가  승진기회  복지급여  \\\n",
       "0  삼성전자(주)  30139  1084668  경영/기획/컨설팅  전직원   해외  2019-04-18    80    80    80   \n",
       "1  삼성전자(주)  30139  1084223  생산관리/품질관리  전직원   경기  2019-04-18    80    60   100   \n",
       "2  삼성전자(주)  30139  1083148      인사/총무  전직원   경기  2019-04-17    80    20   100   \n",
       "3  삼성전자(주)  30139  1082388   마케팅/시장조사  현직원   경기  2019-04-17    80    60   100   \n",
       "4  삼성전자(주)  30139  1081430      생산/제조  전직원   경기  2019-04-17    60    60   100   \n",
       "\n",
       "   워라밸  사내문화  경영진                                               기업장점  \\\n",
       "0   60    60   80  연봉과 복리후생이 매우 좋으며 열심히 하면(운도 필요하지만) 기회가 주어지는 곳. ...   \n",
       "1   80    80   80              글로벌 1위기업답게 체계적인 시스템으로 돌아가는 조직문화와 업무진행   \n",
       "2  100    80   80    아침 점심 저녁 다 제공, 셔틀버스도 운영되고 근무환경 좋음급여가 하는일에 비해 많음   \n",
       "3  100    60   60  복지에 있어서 혜택을 볼 수 있는 것이 많다.\\r업무 분업화가 잘되어 있어 자신의 ...   \n",
       "4   40    60   60  야근수당을 챙겨준다. 밥을 잘 먹을 수 있다. 월차, 연차를 쓰지 못하면 다른 방법...   \n",
       "\n",
       "                                                기업단점  \\\n",
       "0  조직이 방대하여 의사결정이 느리고 소통이 잘 되지 않음. 보신주의, 상명하복, 줄서...   \n",
       "1             굉장히 전문적이라서 본인의 업무외엔 전혀 모름다양하게 배우기는 어려움   \n",
       "2                    사업부 내에 자주 조직이 변경되어 맡는 팀들이 자주 바뀜   \n",
       "3  부서별로 워라밸이 굉장히 다르다 (특히, 개발직군은 최악)\\r업무 분업화가 너무 되...   \n",
       "4  단순 업무의 반복, 근무시간이 길어질 때가 있어 육체적으로 피로하다. 워라벨을 포기...   \n",
       "\n",
       "                                                바라는점 성장예상           추천여부  \n",
       "0  단기 성과주의를 경계해야 함. 최고경영진은 장기비전과 미래를 고민하나 적지 않은 수...   비슷  이 기업을 추천 합니다!  \n",
       "1  다양한 조직문화 활동으로 많이 좋아지고 있지만아직도 갑질 문화가 남아있다. 근절이 필요!   성장  이 기업을 추천 합니다!  \n",
       "2                 파견직에서 업무평가로 계약직 정규직 전환 기회부여되었음 좋겠자   성장  이 기업을 추천 합니다!  \n",
       "3  직원들의 불만을 지속적으로 취합하고 있으면, 그에 대한 회사 차원에서의 대응이 실질...   비슷  이 기업을 추천 합니다!  \n",
       "4     합리적인 복지 및 보상 체계를 마련해주고 직원들의 이야기를 잘 들어주었으면 좋겠다.   성장  이 기업을 추천 합니다!  "
      ]
     },
     "execution_count": 3,
     "metadata": {},
     "output_type": "execute_result"
    }
   ],
   "source": [
    "df.head()"
   ]
  },
  {
   "cell_type": "code",
   "execution_count": 4,
   "metadata": {},
   "outputs": [
    {
     "name": "stdout",
     "output_type": "stream",
     "text": [
      "<class 'pandas.core.frame.DataFrame'>\n",
      "RangeIndex: 563922 entries, 0 to 563921\n",
      "Data columns (total 18 columns):\n",
      "회사이름    563922 non-null object\n",
      "회사코드    563922 non-null int64\n",
      "리뷰코드    563922 non-null int64\n",
      "직종구분    563922 non-null object\n",
      "재직상태    563922 non-null object\n",
      "근무지역    563922 non-null object\n",
      "등록일자    563922 non-null object\n",
      "별점평가    563922 non-null int64\n",
      "승진기회    563922 non-null int64\n",
      "복지급여    563922 non-null int64\n",
      "워라밸     563922 non-null int64\n",
      "사내문화    563922 non-null int64\n",
      "경영진     563922 non-null int64\n",
      "기업장점    563922 non-null object\n",
      "기업단점    563920 non-null object\n",
      "바라는점    563407 non-null object\n",
      "성장예상    404582 non-null object\n",
      "추천여부    563922 non-null object\n",
      "dtypes: int64(8), object(10)\n",
      "memory usage: 77.4+ MB\n"
     ]
    }
   ],
   "source": [
    "df.info()"
   ]
  },
  {
   "cell_type": "code",
   "execution_count": 5,
   "metadata": {},
   "outputs": [
    {
     "data": {
      "text/plain": [
       "회사이름         0\n",
       "회사코드         0\n",
       "리뷰코드         0\n",
       "직종구분         0\n",
       "재직상태         0\n",
       "근무지역         0\n",
       "등록일자         0\n",
       "별점평가         0\n",
       "승진기회         0\n",
       "복지급여         0\n",
       "워라밸          0\n",
       "사내문화         0\n",
       "경영진          0\n",
       "기업장점         0\n",
       "기업단점         2\n",
       "바라는점       515\n",
       "성장예상    159340\n",
       "추천여부         0\n",
       "dtype: int64"
      ]
     },
     "execution_count": 5,
     "metadata": {},
     "output_type": "execute_result"
    }
   ],
   "source": [
    "df.isnull().sum()"
   ]
  },
  {
   "cell_type": "markdown",
   "metadata": {},
   "source": [
    "- 추천여부 : binary 칼럼 전환 "
   ]
  },
  {
   "cell_type": "code",
   "execution_count": 6,
   "metadata": {},
   "outputs": [],
   "source": [
    "def clean(x):\n",
    "    x = x.replace(\"이 기업을 추천 합니다!\", \"1\").replace(\"이 기업을 추천하지 않습니다.\", \"0\")\n",
    "    return float(x)"
   ]
  },
  {
   "cell_type": "code",
   "execution_count": 7,
   "metadata": {},
   "outputs": [],
   "source": [
    "df['recom_tf'] = df['추천여부'].apply(clean)"
   ]
  },
  {
   "cell_type": "code",
   "execution_count": 8,
   "metadata": {},
   "outputs": [],
   "source": [
    "df_sub = df[['회사코드', '리뷰코드', '별점평가', '승진기회', '복지급여', '워라밸', '사내문화', '경영진','recom_tf']]"
   ]
  },
  {
   "cell_type": "code",
   "execution_count": 9,
   "metadata": {},
   "outputs": [
    {
     "data": {
      "text/html": [
       "<div>\n",
       "<style scoped>\n",
       "    .dataframe tbody tr th:only-of-type {\n",
       "        vertical-align: middle;\n",
       "    }\n",
       "\n",
       "    .dataframe tbody tr th {\n",
       "        vertical-align: top;\n",
       "    }\n",
       "\n",
       "    .dataframe thead th {\n",
       "        text-align: right;\n",
       "    }\n",
       "</style>\n",
       "<table border=\"1\" class=\"dataframe\">\n",
       "  <thead>\n",
       "    <tr style=\"text-align: right;\">\n",
       "      <th></th>\n",
       "      <th>회사코드</th>\n",
       "      <th>리뷰코드</th>\n",
       "      <th>별점평가</th>\n",
       "      <th>승진기회</th>\n",
       "      <th>복지급여</th>\n",
       "      <th>워라밸</th>\n",
       "      <th>사내문화</th>\n",
       "      <th>경영진</th>\n",
       "      <th>recom_tf</th>\n",
       "    </tr>\n",
       "  </thead>\n",
       "  <tbody>\n",
       "    <tr>\n",
       "      <th>0</th>\n",
       "      <td>30139</td>\n",
       "      <td>1084668</td>\n",
       "      <td>80</td>\n",
       "      <td>80</td>\n",
       "      <td>80</td>\n",
       "      <td>60</td>\n",
       "      <td>60</td>\n",
       "      <td>80</td>\n",
       "      <td>1.0</td>\n",
       "    </tr>\n",
       "    <tr>\n",
       "      <th>1</th>\n",
       "      <td>30139</td>\n",
       "      <td>1084223</td>\n",
       "      <td>80</td>\n",
       "      <td>60</td>\n",
       "      <td>100</td>\n",
       "      <td>80</td>\n",
       "      <td>80</td>\n",
       "      <td>80</td>\n",
       "      <td>1.0</td>\n",
       "    </tr>\n",
       "    <tr>\n",
       "      <th>2</th>\n",
       "      <td>30139</td>\n",
       "      <td>1083148</td>\n",
       "      <td>80</td>\n",
       "      <td>20</td>\n",
       "      <td>100</td>\n",
       "      <td>100</td>\n",
       "      <td>80</td>\n",
       "      <td>80</td>\n",
       "      <td>1.0</td>\n",
       "    </tr>\n",
       "    <tr>\n",
       "      <th>3</th>\n",
       "      <td>30139</td>\n",
       "      <td>1082388</td>\n",
       "      <td>80</td>\n",
       "      <td>60</td>\n",
       "      <td>100</td>\n",
       "      <td>100</td>\n",
       "      <td>60</td>\n",
       "      <td>60</td>\n",
       "      <td>1.0</td>\n",
       "    </tr>\n",
       "    <tr>\n",
       "      <th>4</th>\n",
       "      <td>30139</td>\n",
       "      <td>1081430</td>\n",
       "      <td>60</td>\n",
       "      <td>60</td>\n",
       "      <td>100</td>\n",
       "      <td>40</td>\n",
       "      <td>60</td>\n",
       "      <td>60</td>\n",
       "      <td>1.0</td>\n",
       "    </tr>\n",
       "  </tbody>\n",
       "</table>\n",
       "</div>"
      ],
      "text/plain": [
       "    회사코드     리뷰코드  별점평가  승진기회  복지급여  워라밸  사내문화  경영진  recom_tf\n",
       "0  30139  1084668    80    80    80   60    60   80       1.0\n",
       "1  30139  1084223    80    60   100   80    80   80       1.0\n",
       "2  30139  1083148    80    20   100  100    80   80       1.0\n",
       "3  30139  1082388    80    60   100  100    60   60       1.0\n",
       "4  30139  1081430    60    60   100   40    60   60       1.0"
      ]
     },
     "execution_count": 9,
     "metadata": {},
     "output_type": "execute_result"
    }
   ],
   "source": [
    "df_sub.head()"
   ]
  },
  {
   "cell_type": "code",
   "execution_count": 10,
   "metadata": {},
   "outputs": [
    {
     "name": "stdout",
     "output_type": "stream",
     "text": [
      "<class 'pandas.core.frame.DataFrame'>\n",
      "RangeIndex: 563922 entries, 0 to 563921\n",
      "Data columns (total 9 columns):\n",
      "회사코드        563922 non-null int64\n",
      "리뷰코드        563922 non-null int64\n",
      "별점평가        563922 non-null int64\n",
      "승진기회        563922 non-null int64\n",
      "복지급여        563922 non-null int64\n",
      "워라밸         563922 non-null int64\n",
      "사내문화        563922 non-null int64\n",
      "경영진         563922 non-null int64\n",
      "recom_tf    563922 non-null float64\n",
      "dtypes: float64(1), int64(8)\n",
      "memory usage: 38.7 MB\n"
     ]
    }
   ],
   "source": [
    "df_sub.info()"
   ]
  },
  {
   "cell_type": "code",
   "execution_count": 11,
   "metadata": {},
   "outputs": [
    {
     "name": "stderr",
     "output_type": "stream",
     "text": [
      "/anaconda3/lib/python3.6/site-packages/ipykernel_launcher.py:1: SettingWithCopyWarning: \n",
      "A value is trying to be set on a copy of a slice from a DataFrame.\n",
      "Try using .loc[row_indexer,col_indexer] = value instead\n",
      "\n",
      "See the caveats in the documentation: http://pandas.pydata.org/pandas-docs/stable/indexing.html#indexing-view-versus-copy\n",
      "  \"\"\"Entry point for launching an IPython kernel.\n"
     ]
    },
    {
     "data": {
      "text/html": [
       "<div>\n",
       "<style scoped>\n",
       "    .dataframe tbody tr th:only-of-type {\n",
       "        vertical-align: middle;\n",
       "    }\n",
       "\n",
       "    .dataframe tbody tr th {\n",
       "        vertical-align: top;\n",
       "    }\n",
       "\n",
       "    .dataframe thead th {\n",
       "        text-align: right;\n",
       "    }\n",
       "</style>\n",
       "<table border=\"1\" class=\"dataframe\">\n",
       "  <thead>\n",
       "    <tr style=\"text-align: right;\">\n",
       "      <th></th>\n",
       "      <th>회사코드</th>\n",
       "      <th>리뷰코드</th>\n",
       "      <th>별점평가</th>\n",
       "      <th>승진기회</th>\n",
       "      <th>복지급여</th>\n",
       "      <th>워라밸</th>\n",
       "      <th>사내문화</th>\n",
       "      <th>경영진</th>\n",
       "      <th>recom_tf</th>\n",
       "    </tr>\n",
       "  </thead>\n",
       "  <tbody>\n",
       "    <tr>\n",
       "      <th>0</th>\n",
       "      <td>30139</td>\n",
       "      <td>1084668</td>\n",
       "      <td>80</td>\n",
       "      <td>80</td>\n",
       "      <td>80</td>\n",
       "      <td>60</td>\n",
       "      <td>60</td>\n",
       "      <td>80</td>\n",
       "      <td>1</td>\n",
       "    </tr>\n",
       "    <tr>\n",
       "      <th>1</th>\n",
       "      <td>30139</td>\n",
       "      <td>1084223</td>\n",
       "      <td>80</td>\n",
       "      <td>60</td>\n",
       "      <td>100</td>\n",
       "      <td>80</td>\n",
       "      <td>80</td>\n",
       "      <td>80</td>\n",
       "      <td>1</td>\n",
       "    </tr>\n",
       "    <tr>\n",
       "      <th>2</th>\n",
       "      <td>30139</td>\n",
       "      <td>1083148</td>\n",
       "      <td>80</td>\n",
       "      <td>20</td>\n",
       "      <td>100</td>\n",
       "      <td>100</td>\n",
       "      <td>80</td>\n",
       "      <td>80</td>\n",
       "      <td>1</td>\n",
       "    </tr>\n",
       "    <tr>\n",
       "      <th>3</th>\n",
       "      <td>30139</td>\n",
       "      <td>1082388</td>\n",
       "      <td>80</td>\n",
       "      <td>60</td>\n",
       "      <td>100</td>\n",
       "      <td>100</td>\n",
       "      <td>60</td>\n",
       "      <td>60</td>\n",
       "      <td>1</td>\n",
       "    </tr>\n",
       "    <tr>\n",
       "      <th>4</th>\n",
       "      <td>30139</td>\n",
       "      <td>1081430</td>\n",
       "      <td>60</td>\n",
       "      <td>60</td>\n",
       "      <td>100</td>\n",
       "      <td>40</td>\n",
       "      <td>60</td>\n",
       "      <td>60</td>\n",
       "      <td>1</td>\n",
       "    </tr>\n",
       "  </tbody>\n",
       "</table>\n",
       "</div>"
      ],
      "text/plain": [
       "    회사코드     리뷰코드  별점평가  승진기회  복지급여  워라밸  사내문화  경영진  recom_tf\n",
       "0  30139  1084668    80    80    80   60    60   80         1\n",
       "1  30139  1084223    80    60   100   80    80   80         1\n",
       "2  30139  1083148    80    20   100  100    80   80         1\n",
       "3  30139  1082388    80    60   100  100    60   60         1\n",
       "4  30139  1081430    60    60   100   40    60   60         1"
      ]
     },
     "execution_count": 11,
     "metadata": {},
     "output_type": "execute_result"
    }
   ],
   "source": [
    "df_sub['recom_tf'] = df['recom_tf'].astype(int)\n",
    "df_sub.head()"
   ]
  },
  {
   "cell_type": "code",
   "execution_count": 12,
   "metadata": {},
   "outputs": [
    {
     "data": {
      "text/html": [
       "<div>\n",
       "<style scoped>\n",
       "    .dataframe tbody tr th:only-of-type {\n",
       "        vertical-align: middle;\n",
       "    }\n",
       "\n",
       "    .dataframe tbody tr th {\n",
       "        vertical-align: top;\n",
       "    }\n",
       "\n",
       "    .dataframe thead th {\n",
       "        text-align: right;\n",
       "    }\n",
       "</style>\n",
       "<table border=\"1\" class=\"dataframe\">\n",
       "  <thead>\n",
       "    <tr style=\"text-align: right;\">\n",
       "      <th></th>\n",
       "      <th></th>\n",
       "      <th>별점평가</th>\n",
       "      <th>승진기회</th>\n",
       "      <th>복지급여</th>\n",
       "      <th>워라밸</th>\n",
       "      <th>사내문화</th>\n",
       "      <th>경영진</th>\n",
       "      <th>recom_tf</th>\n",
       "    </tr>\n",
       "    <tr>\n",
       "      <th>회사코드</th>\n",
       "      <th>리뷰코드</th>\n",
       "      <th></th>\n",
       "      <th></th>\n",
       "      <th></th>\n",
       "      <th></th>\n",
       "      <th></th>\n",
       "      <th></th>\n",
       "      <th></th>\n",
       "    </tr>\n",
       "  </thead>\n",
       "  <tbody>\n",
       "    <tr>\n",
       "      <th rowspan=\"5\" valign=\"top\">30139</th>\n",
       "      <th>1084668</th>\n",
       "      <td>80</td>\n",
       "      <td>80</td>\n",
       "      <td>80</td>\n",
       "      <td>60</td>\n",
       "      <td>60</td>\n",
       "      <td>80</td>\n",
       "      <td>1</td>\n",
       "    </tr>\n",
       "    <tr>\n",
       "      <th>1084223</th>\n",
       "      <td>80</td>\n",
       "      <td>60</td>\n",
       "      <td>100</td>\n",
       "      <td>80</td>\n",
       "      <td>80</td>\n",
       "      <td>80</td>\n",
       "      <td>1</td>\n",
       "    </tr>\n",
       "    <tr>\n",
       "      <th>1083148</th>\n",
       "      <td>80</td>\n",
       "      <td>20</td>\n",
       "      <td>100</td>\n",
       "      <td>100</td>\n",
       "      <td>80</td>\n",
       "      <td>80</td>\n",
       "      <td>1</td>\n",
       "    </tr>\n",
       "    <tr>\n",
       "      <th>1082388</th>\n",
       "      <td>80</td>\n",
       "      <td>60</td>\n",
       "      <td>100</td>\n",
       "      <td>100</td>\n",
       "      <td>60</td>\n",
       "      <td>60</td>\n",
       "      <td>1</td>\n",
       "    </tr>\n",
       "    <tr>\n",
       "      <th>1081430</th>\n",
       "      <td>60</td>\n",
       "      <td>60</td>\n",
       "      <td>100</td>\n",
       "      <td>40</td>\n",
       "      <td>60</td>\n",
       "      <td>60</td>\n",
       "      <td>1</td>\n",
       "    </tr>\n",
       "  </tbody>\n",
       "</table>\n",
       "</div>"
      ],
      "text/plain": [
       "               별점평가  승진기회  복지급여  워라밸  사내문화  경영진  recom_tf\n",
       "회사코드  리뷰코드                                               \n",
       "30139 1084668    80    80    80   60    60   80         1\n",
       "      1084223    80    60   100   80    80   80         1\n",
       "      1083148    80    20   100  100    80   80         1\n",
       "      1082388    80    60   100  100    60   60         1\n",
       "      1081430    60    60   100   40    60   60         1"
      ]
     },
     "execution_count": 12,
     "metadata": {},
     "output_type": "execute_result"
    }
   ],
   "source": [
    "df_sub.set_index(['회사코드', '리뷰코드' ], inplace=True)\n",
    "df_sub.head()"
   ]
  },
  {
   "cell_type": "markdown",
   "metadata": {},
   "source": [
    "이후 시각화하면서 한글 칼럼 깨지는 문제로 인해 영문 칼럼으로 변환 "
   ]
  },
  {
   "cell_type": "code",
   "execution_count": 13,
   "metadata": {},
   "outputs": [
    {
     "name": "stderr",
     "output_type": "stream",
     "text": [
      "/anaconda3/lib/python3.6/site-packages/pandas/core/frame.py:3778: SettingWithCopyWarning: \n",
      "A value is trying to be set on a copy of a slice from a DataFrame\n",
      "\n",
      "See the caveats in the documentation: http://pandas.pydata.org/pandas-docs/stable/indexing.html#indexing-view-versus-copy\n",
      "  return super(DataFrame, self).rename(**kwargs)\n"
     ]
    },
    {
     "data": {
      "text/html": [
       "<div>\n",
       "<style scoped>\n",
       "    .dataframe tbody tr th:only-of-type {\n",
       "        vertical-align: middle;\n",
       "    }\n",
       "\n",
       "    .dataframe tbody tr th {\n",
       "        vertical-align: top;\n",
       "    }\n",
       "\n",
       "    .dataframe thead th {\n",
       "        text-align: right;\n",
       "    }\n",
       "</style>\n",
       "<table border=\"1\" class=\"dataframe\">\n",
       "  <thead>\n",
       "    <tr style=\"text-align: right;\">\n",
       "      <th></th>\n",
       "      <th></th>\n",
       "      <th>tot_score</th>\n",
       "      <th>promotion</th>\n",
       "      <th>reward</th>\n",
       "      <th>balance</th>\n",
       "      <th>culture</th>\n",
       "      <th>manager</th>\n",
       "      <th>recom_tf</th>\n",
       "    </tr>\n",
       "    <tr>\n",
       "      <th>회사코드</th>\n",
       "      <th>리뷰코드</th>\n",
       "      <th></th>\n",
       "      <th></th>\n",
       "      <th></th>\n",
       "      <th></th>\n",
       "      <th></th>\n",
       "      <th></th>\n",
       "      <th></th>\n",
       "    </tr>\n",
       "  </thead>\n",
       "  <tbody>\n",
       "    <tr>\n",
       "      <th rowspan=\"5\" valign=\"top\">30139</th>\n",
       "      <th>1084668</th>\n",
       "      <td>80</td>\n",
       "      <td>80</td>\n",
       "      <td>80</td>\n",
       "      <td>60</td>\n",
       "      <td>60</td>\n",
       "      <td>80</td>\n",
       "      <td>1</td>\n",
       "    </tr>\n",
       "    <tr>\n",
       "      <th>1084223</th>\n",
       "      <td>80</td>\n",
       "      <td>60</td>\n",
       "      <td>100</td>\n",
       "      <td>80</td>\n",
       "      <td>80</td>\n",
       "      <td>80</td>\n",
       "      <td>1</td>\n",
       "    </tr>\n",
       "    <tr>\n",
       "      <th>1083148</th>\n",
       "      <td>80</td>\n",
       "      <td>20</td>\n",
       "      <td>100</td>\n",
       "      <td>100</td>\n",
       "      <td>80</td>\n",
       "      <td>80</td>\n",
       "      <td>1</td>\n",
       "    </tr>\n",
       "    <tr>\n",
       "      <th>1082388</th>\n",
       "      <td>80</td>\n",
       "      <td>60</td>\n",
       "      <td>100</td>\n",
       "      <td>100</td>\n",
       "      <td>60</td>\n",
       "      <td>60</td>\n",
       "      <td>1</td>\n",
       "    </tr>\n",
       "    <tr>\n",
       "      <th>1081430</th>\n",
       "      <td>60</td>\n",
       "      <td>60</td>\n",
       "      <td>100</td>\n",
       "      <td>40</td>\n",
       "      <td>60</td>\n",
       "      <td>60</td>\n",
       "      <td>1</td>\n",
       "    </tr>\n",
       "  </tbody>\n",
       "</table>\n",
       "</div>"
      ],
      "text/plain": [
       "               tot_score  promotion  reward  balance  culture  manager  \\\n",
       "회사코드  리뷰코드                                                               \n",
       "30139 1084668         80         80      80       60       60       80   \n",
       "      1084223         80         60     100       80       80       80   \n",
       "      1083148         80         20     100      100       80       80   \n",
       "      1082388         80         60     100      100       60       60   \n",
       "      1081430         60         60     100       40       60       60   \n",
       "\n",
       "               recom_tf  \n",
       "회사코드  리뷰코드               \n",
       "30139 1084668         1  \n",
       "      1084223         1  \n",
       "      1083148         1  \n",
       "      1082388         1  \n",
       "      1081430         1  "
      ]
     },
     "execution_count": 13,
     "metadata": {},
     "output_type": "execute_result"
    }
   ],
   "source": [
    "df_sub.rename(columns={\"별점평가\": \"tot_score\", \"승진기회\": \"promotion\", \"복지급여\" : \"reward\", \"워라밸\":\"balance\", \"사내문화\" : \"culture\", \"경영진\" :\"manager\"}\n",
    "             , inplace=True)\n",
    "df_sub.head()"
   ]
  },
  {
   "cell_type": "markdown",
   "metadata": {},
   "source": [
    "### 2. 별점평가 예측 (Linear Regression)"
   ]
  },
  {
   "cell_type": "markdown",
   "metadata": {},
   "source": [
    "- correlation check"
   ]
  },
  {
   "cell_type": "code",
   "execution_count": 14,
   "metadata": {},
   "outputs": [
    {
     "data": {
      "text/html": [
       "<div>\n",
       "<style scoped>\n",
       "    .dataframe tbody tr th:only-of-type {\n",
       "        vertical-align: middle;\n",
       "    }\n",
       "\n",
       "    .dataframe tbody tr th {\n",
       "        vertical-align: top;\n",
       "    }\n",
       "\n",
       "    .dataframe thead th {\n",
       "        text-align: right;\n",
       "    }\n",
       "</style>\n",
       "<table border=\"1\" class=\"dataframe\">\n",
       "  <thead>\n",
       "    <tr style=\"text-align: right;\">\n",
       "      <th></th>\n",
       "      <th>tot_score</th>\n",
       "      <th>promotion</th>\n",
       "      <th>reward</th>\n",
       "      <th>balance</th>\n",
       "      <th>culture</th>\n",
       "      <th>manager</th>\n",
       "      <th>recom_tf</th>\n",
       "    </tr>\n",
       "  </thead>\n",
       "  <tbody>\n",
       "    <tr>\n",
       "      <th>tot_score</th>\n",
       "      <td>1.000000</td>\n",
       "      <td>0.607762</td>\n",
       "      <td>0.659956</td>\n",
       "      <td>0.575181</td>\n",
       "      <td>0.670588</td>\n",
       "      <td>0.701203</td>\n",
       "      <td>0.640554</td>\n",
       "    </tr>\n",
       "    <tr>\n",
       "      <th>promotion</th>\n",
       "      <td>0.607762</td>\n",
       "      <td>1.000000</td>\n",
       "      <td>0.520671</td>\n",
       "      <td>0.341314</td>\n",
       "      <td>0.494292</td>\n",
       "      <td>0.546424</td>\n",
       "      <td>0.447029</td>\n",
       "    </tr>\n",
       "    <tr>\n",
       "      <th>reward</th>\n",
       "      <td>0.659956</td>\n",
       "      <td>0.520671</td>\n",
       "      <td>1.000000</td>\n",
       "      <td>0.426281</td>\n",
       "      <td>0.476103</td>\n",
       "      <td>0.553458</td>\n",
       "      <td>0.521820</td>\n",
       "    </tr>\n",
       "    <tr>\n",
       "      <th>balance</th>\n",
       "      <td>0.575181</td>\n",
       "      <td>0.341314</td>\n",
       "      <td>0.426281</td>\n",
       "      <td>1.000000</td>\n",
       "      <td>0.553683</td>\n",
       "      <td>0.478159</td>\n",
       "      <td>0.460962</td>\n",
       "    </tr>\n",
       "    <tr>\n",
       "      <th>culture</th>\n",
       "      <td>0.670588</td>\n",
       "      <td>0.494292</td>\n",
       "      <td>0.476103</td>\n",
       "      <td>0.553683</td>\n",
       "      <td>1.000000</td>\n",
       "      <td>0.634192</td>\n",
       "      <td>0.520617</td>\n",
       "    </tr>\n",
       "    <tr>\n",
       "      <th>manager</th>\n",
       "      <td>0.701203</td>\n",
       "      <td>0.546424</td>\n",
       "      <td>0.553458</td>\n",
       "      <td>0.478159</td>\n",
       "      <td>0.634192</td>\n",
       "      <td>1.000000</td>\n",
       "      <td>0.567943</td>\n",
       "    </tr>\n",
       "    <tr>\n",
       "      <th>recom_tf</th>\n",
       "      <td>0.640554</td>\n",
       "      <td>0.447029</td>\n",
       "      <td>0.521820</td>\n",
       "      <td>0.460962</td>\n",
       "      <td>0.520617</td>\n",
       "      <td>0.567943</td>\n",
       "      <td>1.000000</td>\n",
       "    </tr>\n",
       "  </tbody>\n",
       "</table>\n",
       "</div>"
      ],
      "text/plain": [
       "           tot_score  promotion    reward   balance   culture   manager  \\\n",
       "tot_score   1.000000   0.607762  0.659956  0.575181  0.670588  0.701203   \n",
       "promotion   0.607762   1.000000  0.520671  0.341314  0.494292  0.546424   \n",
       "reward      0.659956   0.520671  1.000000  0.426281  0.476103  0.553458   \n",
       "balance     0.575181   0.341314  0.426281  1.000000  0.553683  0.478159   \n",
       "culture     0.670588   0.494292  0.476103  0.553683  1.000000  0.634192   \n",
       "manager     0.701203   0.546424  0.553458  0.478159  0.634192  1.000000   \n",
       "recom_tf    0.640554   0.447029  0.521820  0.460962  0.520617  0.567943   \n",
       "\n",
       "           recom_tf  \n",
       "tot_score  0.640554  \n",
       "promotion  0.447029  \n",
       "reward     0.521820  \n",
       "balance    0.460962  \n",
       "culture    0.520617  \n",
       "manager    0.567943  \n",
       "recom_tf   1.000000  "
      ]
     },
     "execution_count": 14,
     "metadata": {},
     "output_type": "execute_result"
    }
   ],
   "source": [
    "corr = df_sub.corr()\n",
    "corr"
   ]
  },
  {
   "cell_type": "code",
   "execution_count": 15,
   "metadata": {},
   "outputs": [
    {
     "data": {
      "image/png": "[encoded data removed]",
      "text/plain": [
       "<Figure size 504x360 with 2 Axes>"
      ]
     },
     "metadata": {},
     "output_type": "display_data"
    }
   ],
   "source": [
    "sns.heatmap(corr,annot=True,cmap='Blues', linewidths=0.2, annot_kws={'size':7}) \n",
    "fig=plt.gcf()\n",
    "fig.set_size_inches(7,5)\n",
    "plt.show()"
   ]
  },
  {
   "cell_type": "markdown",
   "metadata": {},
   "source": [
    "- 전체 데이터 이용한 경우에도, 경영진과 사내문화 상관관계 높게 나타남"
   ]
  },
  {
   "cell_type": "code",
   "execution_count": 16,
   "metadata": {},
   "outputs": [
    {
     "data": {
      "text/plain": [
       "<matplotlib.axes._subplots.AxesSubplot at 0x1a0b2c1cc0>"
      ]
     },
     "execution_count": 16,
     "metadata": {},
     "output_type": "execute_result"
    },
    {
     "data": {
      "image/png": "[encoded data removed]",
      "text/plain": [
       "<Figure size 432x288 with 1 Axes>"
      ]
     },
     "metadata": {},
     "output_type": "display_data"
    }
   ],
   "source": [
    "sns.boxplot(data = df_sub)"
   ]
  },
  {
   "cell_type": "markdown",
   "metadata": {},
   "source": [
    "- train/test split "
   ]
  },
  {
   "cell_type": "code",
   "execution_count": 17,
   "metadata": {},
   "outputs": [],
   "source": [
    "from sklearn.model_selection import train_test_split"
   ]
  },
  {
   "cell_type": "code",
   "execution_count": 18,
   "metadata": {},
   "outputs": [],
   "source": [
    "x = df_sub.iloc[:,1:-1]\n",
    "y = df_sub.iloc[:,0]"
   ]
  },
  {
   "cell_type": "code",
   "execution_count": 19,
   "metadata": {},
   "outputs": [
    {
     "data": {
      "text/html": [
       "<div>\n",
       "<style scoped>\n",
       "    .dataframe tbody tr th:only-of-type {\n",
       "        vertical-align: middle;\n",
       "    }\n",
       "\n",
       "    .dataframe tbody tr th {\n",
       "        vertical-align: top;\n",
       "    }\n",
       "\n",
       "    .dataframe thead th {\n",
       "        text-align: right;\n",
       "    }\n",
       "</style>\n",
       "<table border=\"1\" class=\"dataframe\">\n",
       "  <thead>\n",
       "    <tr style=\"text-align: right;\">\n",
       "      <th></th>\n",
       "      <th></th>\n",
       "      <th>promotion</th>\n",
       "      <th>reward</th>\n",
       "      <th>balance</th>\n",
       "      <th>culture</th>\n",
       "      <th>manager</th>\n",
       "    </tr>\n",
       "    <tr>\n",
       "      <th>회사코드</th>\n",
       "      <th>리뷰코드</th>\n",
       "      <th></th>\n",
       "      <th></th>\n",
       "      <th></th>\n",
       "      <th></th>\n",
       "      <th></th>\n",
       "    </tr>\n",
       "  </thead>\n",
       "  <tbody>\n",
       "    <tr>\n",
       "      <th rowspan=\"5\" valign=\"top\">30139</th>\n",
       "      <th>1084668</th>\n",
       "      <td>80</td>\n",
       "      <td>80</td>\n",
       "      <td>60</td>\n",
       "      <td>60</td>\n",
       "      <td>80</td>\n",
       "    </tr>\n",
       "    <tr>\n",
       "      <th>1084223</th>\n",
       "      <td>60</td>\n",
       "      <td>100</td>\n",
       "      <td>80</td>\n",
       "      <td>80</td>\n",
       "      <td>80</td>\n",
       "    </tr>\n",
       "    <tr>\n",
       "      <th>1083148</th>\n",
       "      <td>20</td>\n",
       "      <td>100</td>\n",
       "      <td>100</td>\n",
       "      <td>80</td>\n",
       "      <td>80</td>\n",
       "    </tr>\n",
       "    <tr>\n",
       "      <th>1082388</th>\n",
       "      <td>60</td>\n",
       "      <td>100</td>\n",
       "      <td>100</td>\n",
       "      <td>60</td>\n",
       "      <td>60</td>\n",
       "    </tr>\n",
       "    <tr>\n",
       "      <th>1081430</th>\n",
       "      <td>60</td>\n",
       "      <td>100</td>\n",
       "      <td>40</td>\n",
       "      <td>60</td>\n",
       "      <td>60</td>\n",
       "    </tr>\n",
       "  </tbody>\n",
       "</table>\n",
       "</div>"
      ],
      "text/plain": [
       "               promotion  reward  balance  culture  manager\n",
       "회사코드  리뷰코드                                                 \n",
       "30139 1084668         80      80       60       60       80\n",
       "      1084223         60     100       80       80       80\n",
       "      1083148         20     100      100       80       80\n",
       "      1082388         60     100      100       60       60\n",
       "      1081430         60     100       40       60       60"
      ]
     },
     "execution_count": 19,
     "metadata": {},
     "output_type": "execute_result"
    }
   ],
   "source": [
    "x.head()"
   ]
  },
  {
   "cell_type": "code",
   "execution_count": 20,
   "metadata": {},
   "outputs": [
    {
     "data": {
      "text/plain": [
       "회사코드   리뷰코드   \n",
       "30139  1084668    80\n",
       "       1084223    80\n",
       "       1083148    80\n",
       "       1082388    80\n",
       "       1081430    60\n",
       "Name: tot_score, dtype: int64"
      ]
     },
     "execution_count": 20,
     "metadata": {},
     "output_type": "execute_result"
    }
   ],
   "source": [
    "y.head()"
   ]
  },
  {
   "cell_type": "code",
   "execution_count": 21,
   "metadata": {},
   "outputs": [],
   "source": [
    "x_train, x_test, y_train, y_test = train_test_split(x, y, random_state=7, test_size = 0.3)"
   ]
  },
  {
   "cell_type": "markdown",
   "metadata": {},
   "source": [
    "#### 2-1. linear regression"
   ]
  },
  {
   "cell_type": "code",
   "execution_count": 22,
   "metadata": {},
   "outputs": [],
   "source": [
    "from sklearn.linear_model import LinearRegression"
   ]
  },
  {
   "cell_type": "code",
   "execution_count": 23,
   "metadata": {},
   "outputs": [],
   "source": [
    "from sklearn.metrics import classification_report, confusion_matrix"
   ]
  },
  {
   "cell_type": "code",
   "execution_count": 24,
   "metadata": {},
   "outputs": [],
   "source": [
    "lr = LinearRegression()"
   ]
  },
  {
   "cell_type": "code",
   "execution_count": 25,
   "metadata": {},
   "outputs": [
    {
     "data": {
      "text/plain": [
       "LinearRegression(copy_X=True, fit_intercept=True, n_jobs=1, normalize=False)"
      ]
     },
     "execution_count": 25,
     "metadata": {},
     "output_type": "execute_result"
    }
   ],
   "source": [
    "lr.fit(x_train, y_train)"
   ]
  },
  {
   "cell_type": "code",
   "execution_count": 26,
   "metadata": {},
   "outputs": [
    {
     "data": {
      "text/plain": [
       "array([0.18292122, 0.25426723, 0.15573291, 0.19643044, 0.25276672])"
      ]
     },
     "execution_count": 26,
     "metadata": {},
     "output_type": "execute_result"
    }
   ],
   "source": [
    "lr.coef_"
   ]
  },
  {
   "cell_type": "code",
   "execution_count": 27,
   "metadata": {},
   "outputs": [
    {
     "data": {
      "text/plain": [
       "<matplotlib.axes._subplots.AxesSubplot at 0x1a114e94a8>"
      ]
     },
     "execution_count": 27,
     "metadata": {},
     "output_type": "execute_result"
    },
    {
     "data": {
      "image/png": "[encoded data removed]",
      "text/plain": [
       "<Figure size 432x288 with 1 Axes>"
      ]
     },
     "metadata": {},
     "output_type": "display_data"
    }
   ],
   "source": [
    "sns.barplot(x=x_train.columns, y=lr.coef_)"
   ]
  },
  {
   "cell_type": "code",
   "execution_count": 28,
   "metadata": {},
   "outputs": [
    {
     "data": {
      "text/plain": [
       "0.6904025331058676"
      ]
     },
     "execution_count": 28,
     "metadata": {},
     "output_type": "execute_result"
    }
   ],
   "source": [
    "lr.score(x_test, y_test)"
   ]
  },
  {
   "cell_type": "markdown",
   "metadata": {},
   "source": [
    "r2 값으로 성능 측정 시, 69% 수준 "
   ]
  },
  {
   "cell_type": "code",
   "execution_count": 29,
   "metadata": {},
   "outputs": [],
   "source": [
    "y_pred_lr = lr.predict(x_test)"
   ]
  },
  {
   "cell_type": "code",
   "execution_count": 30,
   "metadata": {},
   "outputs": [
    {
     "data": {
      "text/plain": [
       "<matplotlib.axes._subplots.AxesSubplot at 0x1a12fed9e8>"
      ]
     },
     "execution_count": 30,
     "metadata": {},
     "output_type": "execute_result"
    },
    {
     "data": {
      "image/png": "[encoded data removed]",
      "text/plain": [
       "<Figure size 432x288 with 1 Axes>"
      ]
     },
     "metadata": {},
     "output_type": "display_data"
    }
   ],
   "source": [
    "x, y = pd.Series(y_test, name=\"y_actual\"), pd.Series(y_pred_lr, name=\"y_pred\")\n",
    "sns.regplot(x=x, y=y)"
   ]
  },
  {
   "cell_type": "markdown",
   "metadata": {},
   "source": [
    "### 2-2. Radomforest resgression"
   ]
  },
  {
   "cell_type": "code",
   "execution_count": 31,
   "metadata": {},
   "outputs": [],
   "source": [
    "from sklearn.ensemble import RandomForestRegressor"
   ]
  },
  {
   "cell_type": "code",
   "execution_count": 32,
   "metadata": {},
   "outputs": [],
   "source": [
    "rf = RandomForestRegressor(n_estimators = 100, max_features = None, oob_score = True\n",
    "                           , min_samples_split = 10, random_state = 7)"
   ]
  },
  {
   "cell_type": "code",
   "execution_count": 33,
   "metadata": {},
   "outputs": [
    {
     "data": {
      "text/plain": [
       "RandomForestRegressor(bootstrap=True, criterion='mse', max_depth=None,\n",
       "           max_features=None, max_leaf_nodes=None,\n",
       "           min_impurity_decrease=0.0, min_impurity_split=None,\n",
       "           min_samples_leaf=1, min_samples_split=10,\n",
       "           min_weight_fraction_leaf=0.0, n_estimators=100, n_jobs=1,\n",
       "           oob_score=True, random_state=7, verbose=0, warm_start=False)"
      ]
     },
     "execution_count": 33,
     "metadata": {},
     "output_type": "execute_result"
    }
   ],
   "source": [
    "rf.fit(x_train, y_train)"
   ]
  },
  {
   "cell_type": "code",
   "execution_count": 34,
   "metadata": {},
   "outputs": [
    {
     "data": {
      "text/plain": [
       "array([0.0416725 , 0.16838263, 0.03796729, 0.1869322 , 0.56504538])"
      ]
     },
     "execution_count": 34,
     "metadata": {},
     "output_type": "execute_result"
    }
   ],
   "source": [
    "rf.feature_importances_"
   ]
  },
  {
   "cell_type": "code",
   "execution_count": 35,
   "metadata": {},
   "outputs": [
    {
     "data": {
      "text/plain": [
       "<matplotlib.axes._subplots.AxesSubplot at 0x1a0aefe908>"
      ]
     },
     "execution_count": 35,
     "metadata": {},
     "output_type": "execute_result"
    },
    {
     "data": {
      "image/png": "[encoded data removed]",
      "text/plain": [
       "<Figure size 432x288 with 1 Axes>"
      ]
     },
     "metadata": {},
     "output_type": "display_data"
    }
   ],
   "source": [
    "sns.barplot(x=x_train.columns, y=rf.feature_importances_)"
   ]
  },
  {
   "cell_type": "markdown",
   "metadata": {},
   "source": [
    "경영진 너무 높게 나오는데 hyperparmeter 문제인지 모르겠음 .. <br>\n",
    "중요도 순서는 lr과 유사"
   ]
  },
  {
   "cell_type": "code",
   "execution_count": 36,
   "metadata": {},
   "outputs": [
    {
     "data": {
      "text/plain": [
       "0.6968078711835801"
      ]
     },
     "execution_count": 36,
     "metadata": {},
     "output_type": "execute_result"
    }
   ],
   "source": [
    "rf.score(x_test, y_test)"
   ]
  },
  {
   "cell_type": "code",
   "execution_count": 37,
   "metadata": {},
   "outputs": [],
   "source": [
    "y_pred_rf = rf.predict(x_test)"
   ]
  },
  {
   "cell_type": "code",
   "execution_count": 38,
   "metadata": {},
   "outputs": [
    {
     "data": {
      "text/plain": [
       "<matplotlib.axes._subplots.AxesSubplot at 0x1a39c9e9e8>"
      ]
     },
     "execution_count": 38,
     "metadata": {},
     "output_type": "execute_result"
    },
    {
     "data": {
      "image/png": "[encoded data removed]",
      "text/plain": [
       "<Figure size 432x288 with 1 Axes>"
      ]
     },
     "metadata": {},
     "output_type": "display_data"
    }
   ],
   "source": [
    "x, y = pd.Series(y_test, name=\"y_actual\"), pd.Series(y_pred_rf, name=\"y_pred\")\n",
    "sns.regplot(x=x, y=y)"
   ]
  },
  {
   "cell_type": "markdown",
   "metadata": {},
   "source": [
    "## 3. 추천여부 예측 (Classification)"
   ]
  },
  {
   "cell_type": "markdown",
   "metadata": {},
   "source": [
    "과장님이 적용하신 이상치 제거 방법을 그대로 유지함 "
   ]
  },
  {
   "cell_type": "code",
   "execution_count": 41,
   "metadata": {},
   "outputs": [],
   "source": [
    "df_clf = df_sub.copy()"
   ]
  },
  {
   "cell_type": "code",
   "execution_count": 58,
   "metadata": {},
   "outputs": [
    {
     "data": {
      "text/html": [
       "<div>\n",
       "<style scoped>\n",
       "    .dataframe tbody tr th:only-of-type {\n",
       "        vertical-align: middle;\n",
       "    }\n",
       "\n",
       "    .dataframe tbody tr th {\n",
       "        vertical-align: top;\n",
       "    }\n",
       "\n",
       "    .dataframe thead th {\n",
       "        text-align: right;\n",
       "    }\n",
       "</style>\n",
       "<table border=\"1\" class=\"dataframe\">\n",
       "  <thead>\n",
       "    <tr style=\"text-align: right;\">\n",
       "      <th></th>\n",
       "      <th></th>\n",
       "      <th>tot_score</th>\n",
       "      <th>promotion</th>\n",
       "      <th>reward</th>\n",
       "      <th>balance</th>\n",
       "      <th>culture</th>\n",
       "      <th>manager</th>\n",
       "      <th>recom_tf</th>\n",
       "      <th>score_mean</th>\n",
       "    </tr>\n",
       "    <tr>\n",
       "      <th>회사코드</th>\n",
       "      <th>리뷰코드</th>\n",
       "      <th></th>\n",
       "      <th></th>\n",
       "      <th></th>\n",
       "      <th></th>\n",
       "      <th></th>\n",
       "      <th></th>\n",
       "      <th></th>\n",
       "      <th></th>\n",
       "    </tr>\n",
       "  </thead>\n",
       "  <tbody>\n",
       "    <tr>\n",
       "      <th rowspan=\"5\" valign=\"top\">30139</th>\n",
       "      <th>1084668</th>\n",
       "      <td>80</td>\n",
       "      <td>80</td>\n",
       "      <td>80</td>\n",
       "      <td>60</td>\n",
       "      <td>60</td>\n",
       "      <td>80</td>\n",
       "      <td>1</td>\n",
       "      <td>72.0</td>\n",
       "    </tr>\n",
       "    <tr>\n",
       "      <th>1084223</th>\n",
       "      <td>80</td>\n",
       "      <td>60</td>\n",
       "      <td>100</td>\n",
       "      <td>80</td>\n",
       "      <td>80</td>\n",
       "      <td>80</td>\n",
       "      <td>1</td>\n",
       "      <td>80.0</td>\n",
       "    </tr>\n",
       "    <tr>\n",
       "      <th>1083148</th>\n",
       "      <td>80</td>\n",
       "      <td>20</td>\n",
       "      <td>100</td>\n",
       "      <td>100</td>\n",
       "      <td>80</td>\n",
       "      <td>80</td>\n",
       "      <td>1</td>\n",
       "      <td>76.0</td>\n",
       "    </tr>\n",
       "    <tr>\n",
       "      <th>1082388</th>\n",
       "      <td>80</td>\n",
       "      <td>60</td>\n",
       "      <td>100</td>\n",
       "      <td>100</td>\n",
       "      <td>60</td>\n",
       "      <td>60</td>\n",
       "      <td>1</td>\n",
       "      <td>76.0</td>\n",
       "    </tr>\n",
       "    <tr>\n",
       "      <th>1081430</th>\n",
       "      <td>60</td>\n",
       "      <td>60</td>\n",
       "      <td>100</td>\n",
       "      <td>40</td>\n",
       "      <td>60</td>\n",
       "      <td>60</td>\n",
       "      <td>1</td>\n",
       "      <td>64.0</td>\n",
       "    </tr>\n",
       "  </tbody>\n",
       "</table>\n",
       "</div>"
      ],
      "text/plain": [
       "               tot_score  promotion  reward  balance  culture  manager  \\\n",
       "회사코드  리뷰코드                                                               \n",
       "30139 1084668         80         80      80       60       60       80   \n",
       "      1084223         80         60     100       80       80       80   \n",
       "      1083148         80         20     100      100       80       80   \n",
       "      1082388         80         60     100      100       60       60   \n",
       "      1081430         60         60     100       40       60       60   \n",
       "\n",
       "               recom_tf  score_mean  \n",
       "회사코드  리뷰코드                           \n",
       "30139 1084668         1        72.0  \n",
       "      1084223         1        80.0  \n",
       "      1083148         1        76.0  \n",
       "      1082388         1        76.0  \n",
       "      1081430         1        64.0  "
      ]
     },
     "execution_count": 58,
     "metadata": {},
     "output_type": "execute_result"
    }
   ],
   "source": [
    "df_clf.head()"
   ]
  },
  {
   "cell_type": "code",
   "execution_count": 48,
   "metadata": {},
   "outputs": [],
   "source": [
    "# 총 별점평가가 최하점(20점)이면서 추천여부가 1(추천함)인 경우는 abnormal한 케이스로 보고 삭제 \n",
    "df_clf=df_clf.drop(df_clf[(df_sub['tot_score']<=20)&(df_clf['recom_tf']==1)].index)"
   ]
  },
  {
   "cell_type": "code",
   "execution_count": 49,
   "metadata": {},
   "outputs": [],
   "source": [
    "# 총 별점평가가 최고점(100점)이면서 추천여부를 0(추천안함)인 경우도 abnormal한 케이스로 보고 삭제 \n",
    "df_clf=df_clf.drop(df_clf[(df_clf['tot_score']>=100)&(df_clf['recom_tf']==0)].index)"
   ]
  },
  {
   "cell_type": "code",
   "execution_count": 50,
   "metadata": {},
   "outputs": [],
   "source": [
    "df_clf['score_mean']=df_clf.iloc[:,1:6].mean(axis=1)"
   ]
  },
  {
   "cell_type": "code",
   "execution_count": 51,
   "metadata": {},
   "outputs": [],
   "source": [
    "# 개별 평가항목 5개(승진기회~경영진)가 최하점이면서 추천여부가 1(추천함)인 경우는 abnormal한 케이스로 보고 삭제 (77건)\n",
    "df_clf=df_clf.drop(df_clf[(df_clf['score_mean']<=20)&(df_clf['recom_tf']==1)].index)"
   ]
  },
  {
   "cell_type": "code",
   "execution_count": 52,
   "metadata": {},
   "outputs": [],
   "source": [
    "# 개별 평가항목 5개(승진기회~경영진)가 최고점(100점)이면서 추천여부가 0(추천안함)인 경우도 abnormal한 케이스로 보고 삭제 (59건)\n",
    "df_clf=df_clf.drop(df_clf[(df_clf['score_mean']>=100)&(df_clf['recom_tf']==0)].index)"
   ]
  },
  {
   "cell_type": "code",
   "execution_count": 53,
   "metadata": {},
   "outputs": [
    {
     "name": "stdout",
     "output_type": "stream",
     "text": [
      "클렌징 후 총 데이터 건수 : 559078\n"
     ]
    }
   ],
   "source": [
    "print(\"클렌징 후 총 데이터 건수 :\",df_clf.shape[0])"
   ]
  },
  {
   "cell_type": "code",
   "execution_count": 62,
   "metadata": {},
   "outputs": [],
   "source": [
    "x2 = df_clf.iloc[:,1:-2]\n",
    "y2 = df_clf.iloc[:,-2]"
   ]
  },
  {
   "cell_type": "code",
   "execution_count": 63,
   "metadata": {},
   "outputs": [
    {
     "data": {
      "text/html": [
       "<div>\n",
       "<style scoped>\n",
       "    .dataframe tbody tr th:only-of-type {\n",
       "        vertical-align: middle;\n",
       "    }\n",
       "\n",
       "    .dataframe tbody tr th {\n",
       "        vertical-align: top;\n",
       "    }\n",
       "\n",
       "    .dataframe thead th {\n",
       "        text-align: right;\n",
       "    }\n",
       "</style>\n",
       "<table border=\"1\" class=\"dataframe\">\n",
       "  <thead>\n",
       "    <tr style=\"text-align: right;\">\n",
       "      <th></th>\n",
       "      <th></th>\n",
       "      <th>promotion</th>\n",
       "      <th>reward</th>\n",
       "      <th>balance</th>\n",
       "      <th>culture</th>\n",
       "      <th>manager</th>\n",
       "    </tr>\n",
       "    <tr>\n",
       "      <th>회사코드</th>\n",
       "      <th>리뷰코드</th>\n",
       "      <th></th>\n",
       "      <th></th>\n",
       "      <th></th>\n",
       "      <th></th>\n",
       "      <th></th>\n",
       "    </tr>\n",
       "  </thead>\n",
       "  <tbody>\n",
       "    <tr>\n",
       "      <th rowspan=\"5\" valign=\"top\">30139</th>\n",
       "      <th>1084668</th>\n",
       "      <td>80</td>\n",
       "      <td>80</td>\n",
       "      <td>60</td>\n",
       "      <td>60</td>\n",
       "      <td>80</td>\n",
       "    </tr>\n",
       "    <tr>\n",
       "      <th>1084223</th>\n",
       "      <td>60</td>\n",
       "      <td>100</td>\n",
       "      <td>80</td>\n",
       "      <td>80</td>\n",
       "      <td>80</td>\n",
       "    </tr>\n",
       "    <tr>\n",
       "      <th>1083148</th>\n",
       "      <td>20</td>\n",
       "      <td>100</td>\n",
       "      <td>100</td>\n",
       "      <td>80</td>\n",
       "      <td>80</td>\n",
       "    </tr>\n",
       "    <tr>\n",
       "      <th>1082388</th>\n",
       "      <td>60</td>\n",
       "      <td>100</td>\n",
       "      <td>100</td>\n",
       "      <td>60</td>\n",
       "      <td>60</td>\n",
       "    </tr>\n",
       "    <tr>\n",
       "      <th>1081430</th>\n",
       "      <td>60</td>\n",
       "      <td>100</td>\n",
       "      <td>40</td>\n",
       "      <td>60</td>\n",
       "      <td>60</td>\n",
       "    </tr>\n",
       "  </tbody>\n",
       "</table>\n",
       "</div>"
      ],
      "text/plain": [
       "               promotion  reward  balance  culture  manager\n",
       "회사코드  리뷰코드                                                 \n",
       "30139 1084668         80      80       60       60       80\n",
       "      1084223         60     100       80       80       80\n",
       "      1083148         20     100      100       80       80\n",
       "      1082388         60     100      100       60       60\n",
       "      1081430         60     100       40       60       60"
      ]
     },
     "execution_count": 63,
     "metadata": {},
     "output_type": "execute_result"
    }
   ],
   "source": [
    "x2.head()"
   ]
  },
  {
   "cell_type": "code",
   "execution_count": 64,
   "metadata": {},
   "outputs": [
    {
     "data": {
      "text/plain": [
       "회사코드   리뷰코드   \n",
       "30139  1084668    1\n",
       "       1084223    1\n",
       "       1083148    1\n",
       "       1082388    1\n",
       "       1081430    1\n",
       "Name: recom_tf, dtype: int64"
      ]
     },
     "execution_count": 64,
     "metadata": {},
     "output_type": "execute_result"
    }
   ],
   "source": [
    "y2.head()"
   ]
  },
  {
   "cell_type": "code",
   "execution_count": 65,
   "metadata": {},
   "outputs": [],
   "source": [
    "x_train2, x_test2, y_train2, y_test2 = train_test_split(x2, y2, random_state=7, test_size = 0.3)"
   ]
  },
  {
   "cell_type": "code",
   "execution_count": null,
   "metadata": {},
   "outputs": [],
   "source": [
    "print(\"* positive value ratio:\", df['y'].value_counts()[1]/df2.shape[0])\n",
    "f = plt.subplots(figsize=(4,4))\n",
    "colors = [\"#25A8BA\", \"#E78E8E\"]\n",
    "labels =\"negative\", \"positive\"\n",
    "plt.suptitle('deposit suscriptions', fontsize=20)\n",
    "df['y'].value_counts().plot.pie(explode=[0,0.25], autopct='%1.2f%%', shadow=True , colors=colors,\n",
    "                                labels=labels, fontsize=12)"
   ]
  },
  {
   "cell_type": "code",
   "execution_count": 67,
   "metadata": {},
   "outputs": [
    {
     "data": {
      "image/png": "[encoded data removed]",
      "text/plain": [
       "<Figure size 432x288 with 1 Axes>"
      ]
     },
     "metadata": {},
     "output_type": "display_data"
    }
   ],
   "source": [
    "sns.countplot(x='recom_tf', data=df_clf)\n",
    "plt.show()"
   ]
  },
  {
   "cell_type": "markdown",
   "metadata": {},
   "source": [
    "2:1 정도로 unbalanced 됨  "
   ]
  },
  {
   "cell_type": "markdown",
   "metadata": {},
   "source": [
    "### 3-0. baseline accuracy"
   ]
  },
  {
   "cell_type": "code",
   "execution_count": 74,
   "metadata": {},
   "outputs": [],
   "source": [
    "from sklearn.dummy import DummyClassifier"
   ]
  },
  {
   "cell_type": "code",
   "execution_count": 76,
   "metadata": {},
   "outputs": [
    {
     "data": {
      "text/plain": [
       "DummyClassifier(constant=None, random_state=None, strategy='most_frequent')"
      ]
     },
     "execution_count": 76,
     "metadata": {},
     "output_type": "execute_result"
    }
   ],
   "source": [
    "du = DummyClassifier(strategy='most_frequent', constant=None) \n",
    "du.fit(x_train2, y_train2)"
   ]
  },
  {
   "cell_type": "code",
   "execution_count": 77,
   "metadata": {},
   "outputs": [],
   "source": [
    "predicted_du = du.predict(x_test2)"
   ]
  },
  {
   "cell_type": "code",
   "execution_count": 78,
   "metadata": {},
   "outputs": [
    {
     "name": "stdout",
     "output_type": "stream",
     "text": [
      "             precision    recall  f1-score   support\n",
      "\n",
      "          0       0.66      1.00      0.80    110817\n",
      "          1       0.00      0.00      0.00     56907\n",
      "\n",
      "avg / total       0.44      0.66      0.53    167724\n",
      "\n"
     ]
    },
    {
     "name": "stderr",
     "output_type": "stream",
     "text": [
      "/anaconda3/lib/python3.6/site-packages/sklearn/metrics/classification.py:1135: UndefinedMetricWarning: Precision and F-score are ill-defined and being set to 0.0 in labels with no predicted samples.\n",
      "  'precision', 'predicted', average, warn_for)\n"
     ]
    }
   ],
   "source": [
    "from sklearn.metrics import classification_report\n",
    "print(classification_report(y_test2, predicted_du))"
   ]
  },
  {
   "cell_type": "markdown",
   "metadata": {},
   "source": [
    "unblanced dataset으로 전부 0으로 예측할 경우에도 f1-score 0.53 수준  <br>\n",
    "<br>\n",
    "단순 accuracy 이외에 \n",
    "평가 지표 필요 <br>\n",
    "\n",
    "- kappa : 우연히 예측해서 맞을 확률을 배제했을 때, 모델이 개선된 정도 \n",
    "- roc cureve : recall과 specificity 고려 -> FP를 줄이면서 TP를 높이는 모델을 우수하게 평가 \n",
    "- prc curve : precsion과 recall만 고려 -> 의 영향도는 무시하면서 TP를 높이는 모델을 우수하게 평가 \n",
    "- auprc : prc curve 아래의 넓이 (area under precsion-recall curve)\n",
    "\n",
    "이상거래 탐지와 같은 higly unbalanced dataset 에서 이상거래를 찾는게 초점인 경우에 auprc 적정하나 <br>\n",
    "이 경우에도 적정한지는 고민 필요 <br>\n",
    "추천 기업(우수 기업)을 찾아내서 신용 평가 시 가산점을 주는 목적이라면 의미있을 듯 "
   ]
  },
  {
   "cell_type": "code",
   "execution_count": 70,
   "metadata": {},
   "outputs": [],
   "source": [
    "from sklearn.metrics import classification_report, confusion_matrix, precision_recall_curve,recall_score, f1_score, cohen_kappa_score,auc, precision_score"
   ]
  },
  {
   "cell_type": "code",
   "execution_count": 81,
   "metadata": {},
   "outputs": [],
   "source": [
    "# 성능평가 함수 정의 \n",
    "def model_evaluation(model) : \n",
    "    \n",
    "    model.fit(x_train2, y_train2)\n",
    "    y_pred2 = model.predict(x_test2)\n",
    "    \n",
    "    print(\"confusion matrix :\")\n",
    "    print(confusion_matrix(y_test2, y_pred2))\n",
    "    print(\"\")\n",
    "    print(\"score :\", model.score(x_test2,y_test2))\n",
    "    print(\"\")\n",
    "    print(classification_report(y_test2, y_pred2, digits=4))\n",
    "    print(\"kappa :\", cohen_kappa_score(y_test2, y_pred2))\n",
    "    \n",
    "    precision, recall, thresholds = precision_recall_curve(y_test2, y_pred2, pos_label=1)\n",
    "    \n",
    "    print(\"auprc :\", auc(recall, precision, reorder=True)) \n",
    "    \n",
    "    plt.figure(figsize=(2,2))\n",
    "    plt.plot(recall, precision)"
   ]
  },
  {
   "cell_type": "markdown",
   "metadata": {},
   "source": [
    "### 3-1. Logistic Regression"
   ]
  },
  {
   "cell_type": "code",
   "execution_count": 79,
   "metadata": {},
   "outputs": [],
   "source": [
    "from sklearn.linear_model import LogisticRegression"
   ]
  },
  {
   "cell_type": "code",
   "execution_count": 80,
   "metadata": {},
   "outputs": [],
   "source": [
    "lr = LogisticRegression(class_weight='balanced', random_state=7)"
   ]
  },
  {
   "cell_type": "code",
   "execution_count": 82,
   "metadata": {},
   "outputs": [
    {
     "name": "stdout",
     "output_type": "stream",
     "text": [
      "confusion matrix :\n",
      "[[89667 21150]\n",
      " [ 8926 47981]]\n",
      "\n",
      "score : 0.8206815959552598\n",
      "\n",
      "             precision    recall  f1-score   support\n",
      "\n",
      "          0     0.9095    0.8091    0.8564    110817\n",
      "          1     0.6941    0.8431    0.7614     56907\n",
      "\n",
      "avg / total     0.8364    0.8207    0.8241    167724\n",
      "\n",
      "kappa : 0.6199028965651531\n",
      "auprc : 0.7952125397213564\n"
     ]
    },
    {
     "data": {
      "image/png": "[encoded data removed]",
      "text/plain": [
       "<Figure size 144x144 with 1 Axes>"
      ]
     },
     "metadata": {},
     "output_type": "display_data"
    }
   ],
   "source": [
    "model_evaluation(lr)"
   ]
  },
  {
   "cell_type": "code",
   "execution_count": 95,
   "metadata": {},
   "outputs": [
    {
     "data": {
      "text/plain": [
       "array([[0.02133375, 0.03767727, 0.02441191, 0.02483832, 0.03533618]])"
      ]
     },
     "execution_count": 95,
     "metadata": {},
     "output_type": "execute_result"
    }
   ],
   "source": [
    "lr.coef_"
   ]
  },
  {
   "cell_type": "markdown",
   "metadata": {},
   "source": [
    "### 3-2. RandomForest "
   ]
  },
  {
   "cell_type": "code",
   "execution_count": 83,
   "metadata": {},
   "outputs": [],
   "source": [
    "from sklearn.ensemble import RandomForestClassifier"
   ]
  },
  {
   "cell_type": "code",
   "execution_count": 85,
   "metadata": {},
   "outputs": [],
   "source": [
    "rf = RandomForestClassifier(n_estimators = 100, min_samples_split = 10, max_features=None, class_weight='balanced', random_state=7) "
   ]
  },
  {
   "cell_type": "code",
   "execution_count": 86,
   "metadata": {},
   "outputs": [
    {
     "name": "stdout",
     "output_type": "stream",
     "text": [
      "confusion matrix :\n",
      "[[89236 21581]\n",
      " [ 8638 48269]]\n",
      "\n",
      "score : 0.8198290047935894\n",
      "\n",
      "             precision    recall  f1-score   support\n",
      "\n",
      "          0     0.9117    0.8053    0.8552    110817\n",
      "          1     0.6910    0.8482    0.7616     56907\n",
      "\n",
      "avg / total     0.8369    0.8198    0.8234    167724\n",
      "\n",
      "kappa : 0.6192078341214146\n",
      "auprc : 0.7953738474242225\n"
     ]
    },
    {
     "data": {
      "image/png": "[encoded data removed]",
      "text/plain": [
       "<Figure size 144x144 with 1 Axes>"
      ]
     },
     "metadata": {},
     "output_type": "display_data"
    }
   ],
   "source": [
    "model_evaluation(rf)"
   ]
  },
  {
   "cell_type": "code",
   "execution_count": 101,
   "metadata": {},
   "outputs": [
    {
     "data": {
      "text/plain": [
       "array([0.03064882, 0.18565897, 0.05985123, 0.09955734, 0.62428364])"
      ]
     },
     "execution_count": 101,
     "metadata": {},
     "output_type": "execute_result"
    }
   ],
   "source": [
    "rf.feature_importances_"
   ]
  },
  {
   "cell_type": "code",
   "execution_count": null,
   "metadata": {},
   "outputs": [],
   "source": []
  }
 ],
 "metadata": {
  "kernelspec": {
   "display_name": "Python 3",
   "language": "python",
   "name": "python3"
  },
  "language_info": {
   "codemirror_mode": {
    "name": "ipython",
    "version": 3
   },
   "file_extension": ".py",
   "mimetype": "text/x-python",
   "name": "python",
   "nbconvert_exporter": "python",
   "pygments_lexer": "ipython3",
   "version": "3.6.5"
  }
 },
 "nbformat": 4,
 "nbformat_minor": 2
}
